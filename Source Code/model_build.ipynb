{
 "cells": [
  {
   "cell_type": "markdown",
   "id": "80ce8388",
   "metadata": {},
   "source": [
    "# Import module and important variable"
   ]
  },
  {
   "cell_type": "code",
   "execution_count": 1,
   "id": "54020ace",
   "metadata": {},
   "outputs": [
    {
     "name": "stderr",
     "output_type": "stream",
     "text": [
      "2023-03-20 01:49:17.346643: I tensorflow/stream_executor/platform/default/dso_loader.cc:49] Successfully opened dynamic library libcudart.so.10.1\n"
     ]
    }
   ],
   "source": [
    "#!jupyter nbconvert --to script model_build.ipynb\n",
    "\n",
    "import os\n",
    "#import own module\n",
    "\n",
    "#os.environ['TF_CPP_MIN_LOG_LEVEL'] = '0'\n",
    "import copy\n",
    "import psutil\n",
    "import numpy as np\n",
    "import pandas as pd\n",
    "import tensorflow as tf\n",
    "# import tensorflow_addons as tfa\n",
    "import pickle\n",
    "import random\n",
    "import sys\n",
    "import time\n",
    "from tqdm.notebook import tqdm\n",
    "from matplotlib import pyplot as plt\n",
    "from statistics import mean\n",
    "from tensorflow.python.client import device_lib\n",
    "from tensorflow.keras import backend as K\n",
    "# from attention import Attention\n",
    "# from keras_self_attention import SeqSelfAttention\n",
    "from sklearn.model_selection import train_test_split\n",
    "from sklearn.preprocessing import StandardScaler\n",
    "from sklearn.preprocessing import MinMaxScaler\n",
    "from sklearn.metrics import mean_squared_error\n",
    "from sklearn.metrics import mean_absolute_error\n",
    "from sklearn.metrics import f1_score, accuracy_score\n",
    "from sklearn.metrics import matthews_corrcoef\n",
    "from sklearn.metrics import ConfusionMatrixDisplay\n",
    "from sklearn.metrics import roc_curve\n",
    "from sklearn.metrics import roc_auc_score\n",
    "from sklearn.metrics import precision_recall_curve\n",
    "from sklearn.metrics import r2_score\n",
    "from sklearn.model_selection import train_test_split\n",
    "#from keras.utils import to_categorical\n",
    "from scipy import stats\n",
    "from datetime import datetime\n",
    "from time import sleep\n",
    "#from geopy import distance \n"
   ]
  },
  {
   "cell_type": "code",
   "execution_count": 2,
   "id": "81490708",
   "metadata": {},
   "outputs": [
    {
     "name": "stdout",
     "output_type": "stream",
     "text": [
      "2.4.1\n"
     ]
    }
   ],
   "source": [
    "print(tf.__version__)"
   ]
  },
  {
   "cell_type": "code",
   "execution_count": 3,
   "id": "86644018",
   "metadata": {},
   "outputs": [
    {
     "name": "stderr",
     "output_type": "stream",
     "text": [
      "2023-03-20 01:49:19.655845: I tensorflow/compiler/jit/xla_cpu_device.cc:41] Not creating XLA devices, tf_xla_enable_xla_devices not set\n",
      "2023-03-20 01:49:19.657151: I tensorflow/stream_executor/platform/default/dso_loader.cc:49] Successfully opened dynamic library libcuda.so.1\n",
      "2023-03-20 01:49:19.811091: I tensorflow/core/common_runtime/gpu/gpu_device.cc:1720] Found device 0 with properties: \n",
      "pciBusID: 0000:3d:00.0 name: NVIDIA GeForce RTX 2080 Ti computeCapability: 7.5\n",
      "coreClock: 1.545GHz coreCount: 68 deviceMemorySize: 10.76GiB deviceMemoryBandwidth: 573.69GiB/s\n",
      "2023-03-20 01:49:19.811876: I tensorflow/core/common_runtime/gpu/gpu_device.cc:1720] Found device 1 with properties: \n",
      "pciBusID: 0000:3e:00.0 name: NVIDIA GeForce RTX 2080 Ti computeCapability: 7.5\n",
      "coreClock: 1.545GHz coreCount: 68 deviceMemorySize: 10.76GiB deviceMemoryBandwidth: 573.69GiB/s\n",
      "2023-03-20 01:49:19.812626: I tensorflow/core/common_runtime/gpu/gpu_device.cc:1720] Found device 2 with properties: \n",
      "pciBusID: 0000:88:00.0 name: NVIDIA GeForce RTX 2080 Ti computeCapability: 7.5\n",
      "coreClock: 1.545GHz coreCount: 68 deviceMemorySize: 10.76GiB deviceMemoryBan"
     ]
    },
    {
     "data": {
      "text/plain": [
       "[name: \"/device:CPU:0\"\n",
       " device_type: \"CPU\"\n",
       " memory_limit: 268435456\n",
       " locality {\n",
       " }\n",
       " incarnation: 5709092930970974261,\n",
       " name: \"/device:GPU:0\"\n",
       " device_type: \"GPU\"\n",
       " memory_limit: 10565736192\n",
       " locality {\n",
       "   bus_id: 1\n",
       "   links {\n",
       "   }\n",
       " }\n",
       " incarnation: 5408910908152234741\n",
       " physical_device_desc: \"device: 0, name: NVIDIA GeForce RTX 2080 Ti, pci bus id: 0000:3d:00.0, compute capability: 7.5\",\n",
       " name: \"/device:GPU:1\"\n",
       " device_type: \"GPU\"\n",
       " memory_limit: 10565736192\n",
       " locality {\n",
       "   bus_id: 1\n",
       "   links {\n",
       "   }\n",
       " }\n",
       " incarnation: 3134007847179557665\n",
       " physical_device_desc: \"device: 1, name: NVIDIA GeForce RTX 2080 Ti, pci bus id: 0000:3e:00.0, compute capability: 7.5\",\n",
       " name: \"/device:GPU:2\"\n",
       " device_type: \"GPU\"\n",
       " memory_limit: 10565736192\n",
       " locality {\n",
       "   bus_id: 2\n",
       "   numa_node: 1\n",
       "   links {\n",
       "   }\n",
       " }\n",
       " incarnation: 2695387037007186655\n",
       " physical_device_desc: \"device: 2, name: NVIDIA GeForce RTX 2080 Ti, pci bus id: 0000:88:00.0, compute capability: 7.5\",\n",
       " name: \"/device:GPU:3\"\n",
       " device_type: \"GPU\"\n",
       " memory_limit: 10565736192\n",
       " locality {\n",
       "   bus_id: 2\n",
       "   numa_node: 1\n",
       "   links {\n",
       "   }\n",
       " }\n",
       " incarnation: 16324037774925931340\n",
       " physical_device_desc: \"device: 3, name: NVIDIA GeForce RTX 2080 Ti, pci bus id: 0000:89:00.0, compute capability: 7.5\",\n",
       " name: \"/device:GPU:4\"\n",
       " device_type: \"GPU\"\n",
       " memory_limit: 10565736192\n",
       " locality {\n",
       "   bus_id: 2\n",
       "   numa_node: 1\n",
       "   links {\n",
       "   }\n",
       " }\n",
       " incarnation: 6879228651453954809\n",
       " physical_device_desc: \"device: 4, name: NVIDIA GeForce RTX 2080 Ti, pci bus id: 0000:b1:00.0, compute capability: 7.5\"]"
      ]
     },
     "execution_count": 3,
     "metadata": {},
     "output_type": "execute_result"
    },
    {
     "name": "stderr",
     "output_type": "stream",
     "text": [
      "dwidth: 573.69GiB/s\n",
      "2023-03-20 01:49:19.813364: I tensorflow/core/common_runtime/gpu/gpu_device.cc:1720] Found device 3 with properties: \n",
      "pciBusID: 0000:89:00.0 name: NVIDIA GeForce RTX 2080 Ti computeCapability: 7.5\n",
      "coreClock: 1.545GHz coreCount: 68 deviceMemorySize: 10.76GiB deviceMemoryBandwidth: 573.69GiB/s\n",
      "2023-03-20 01:49:19.814105: I tensorflow/core/common_runtime/gpu/gpu_device.cc:1720] Found device 4 with properties: \n",
      "pciBusID: 0000:b1:00.0 name: NVIDIA GeForce RTX 2080 Ti computeCapability: 7.5\n",
      "coreClock: 1.545GHz coreCount: 68 deviceMemorySize: 10.76GiB deviceMemoryBandwidth: 573.69GiB/s\n",
      "2023-03-20 01:49:19.814132: I tensorflow/stream_executor/platform/default/dso_loader.cc:49] Successfully opened dynamic library libcudart.so.10.1\n",
      "2023-03-20 01:49:19.816825: I tensorflow/stream_executor/platform/default/dso_loader.cc:49] Successfully opened dynamic library libcublas.so.10\n",
      "2023-03-20 01:49:19.816883: I tensorflow/stream_executor/platform/default/dso_loader.cc:49] Successfully opened dynamic library libcublasLt.so.10\n",
      "2023-03-20 01:49:19.819334: I tensorflow/stream_executor/platform/default/dso_loader.cc:49] Successfully opened dynamic library libcufft.so.10\n",
      "2023-03-20 01:49:19.819871: I tensorflow/stream_executor/platform/default/dso_loader.cc:49] Successfully opened dynamic library libcurand.so.10\n",
      "2023-03-20 01:49:19.822222: I tensorflow/stream_executor/platform/default/dso_loader.cc:49] Successfully opened dynamic library libcusolver.so.10\n",
      "2023-03-20 01:49:19.823575: I tensorflow/stream_executor/platform/default/dso_loader.cc:49] Successfully opened dynamic library libcusparse.so.10\n",
      "2023-03-20 01:49:19.828066: I tensorflow/stream_executor/platform/default/dso_loader.cc:49] Successfully opened dynamic library libcudnn.so.7\n",
      "2023-03-20 01:49:19.835213: I tensorflow/core/common_runtime/gpu/gpu_device.cc:1862] Adding visible gpu devices: 0, 1, 2, 3, 4\n",
      "2023-03-20 01:49:19.835667: I tensorflow/core/platform/cpu_feature_guard.cc:142] This TensorFlow binary is optimized with oneAPI Deep Neural Network Library (oneDNN) to use the following CPU instructions in performance-critical operations:  SSE4.1 SSE4.2 AVX AVX2 AVX512F FMA\n",
      "To enable them in other operations, rebuild TensorFlow with the appropriate compiler flags.\n",
      "2023-03-20 01:49:19.835813: I tensorflow/compiler/jit/xla_gpu_device.cc:99] Not creating XLA devices, tf_xla_enable_xla_devices not set\n",
      "2023-03-20 01:49:20.485171: I tensorflow/core/common_runtime/gpu/gpu_device.cc:1720] Found device 0 with properties: \n",
      "pciBusID: 0000:3d:00.0 name: NVIDIA GeForce RTX 2080 Ti computeCapability: 7.5\n",
      "coreClock: 1.545GHz coreCount: 68 deviceMemorySize: 10.76GiB deviceMemoryBandwidth: 573.69GiB/s\n",
      "2023-03-20 01:49:20.485917: I tensorflow/core/common_runtime/gpu/gpu_device.cc:1720] Found device 1 with properties: \n",
      "pciBusID: 0000:3e:00.0 name: NVIDIA GeForce RTX 2080 Ti computeCapability: 7.5\n",
      "coreClock: 1.545GHz coreCount: 68 deviceMemorySize: 10.76GiB deviceMemoryBandwidth: 573.69GiB/s\n",
      "2023-03-20 01:49:20.486589: I tensorflow/core/common_runtime/gpu/gpu_device.cc:1720] Found device 2 with properties: \n",
      "pciBusID: 0000:88:00.0 name: NVIDIA GeForce RTX 2080 Ti computeCapability: 7.5\n",
      "coreClock: 1.545GHz coreCount: 68 deviceMemorySize: 10.76GiB deviceMemoryBandwidth: 573.69GiB/s\n",
      "2023-03-20 01:49:20.487261: I tensorflow/core/common_runtime/gpu/gpu_device.cc:1720] Found device 3 with properties: \n",
      "pciBusID: 0000:89:00.0 name: NVIDIA GeForce RTX 2080 Ti computeCapability: 7.5\n",
      "coreClock: 1.545GHz coreCount: 68 deviceMemorySize: 10.76GiB deviceMemoryBandwidth: 573.69GiB/s\n",
      "2023-03-20 01:49:20.487934: I tensorflow/core/common_runtime/gpu/gpu_device.cc:1720] Found device 4 with properties: \n",
      "pciBusID: 0000:b1:00.0 name: NVIDIA GeForce RTX 2080 Ti computeCapability: 7.5\n",
      "coreClock: 1.545GHz coreCount: 68 deviceMemorySize: 10.76GiB deviceMemoryBandwidth: 573.69GiB/s\n",
      "2023-03-20 01:49:20.487966: I tensorflow/stream_executor/platform/default/dso_loader.cc:49] Successfully opened dynamic library libcudart.so.10.1\n",
      "2023-03-20 01:49:20.487990: I tensorflow/stream_executor/platform/default/dso_loader.cc:49] Successfully opened dynamic library libcublas.so.10\n",
      "2023-03-20 01:49:20.487999: I tensorflow/stream_executor/platform/default/dso_loader.cc:49] Successfully opened dynamic library libcublasLt.so.10\n",
      "2023-03-20 01:49:20.488009: I tensorflow/stream_executor/platform/default/dso_loader.cc:49] Successfully opened dynamic library libcufft.so.10\n",
      "2023-03-20 01:49:20.488017: I tensorflow/stream_executor/platform/default/dso_loader.cc:49] Successfully opened dynamic library libcurand.so.10\n",
      "2023-03-20 01:49:20.488027: I tensorflow/stream_executor/platform/default/dso_loader.cc:49] Successfully opened dynamic library libcusolver.so.10\n",
      "2023-03-20 01:49:20.488035: I tensorflow/stream_executor/platform/default/dso_loader.cc:49] Successfully opened dynamic library libcusparse.so.10\n",
      "2023-03-20 01:49:20.488045: I tensorflow/stream_executor/platform/default/dso_loader.cc:49] Successfully opened dynamic library libcudnn.so.7\n",
      "2023-03-20 01:49:20.494431: I tensorflow/core/common_runtime/gpu/gpu_device.cc:1862] Adding visible gpu devices: 0, 1, 2, 3, 4\n",
      "2023-03-20 01:49:20.494469: I tensorflow/stream_executor/platform/default/dso_loader.cc:49] Successfully opened dynamic library libcudart.so.10.1\n",
      "2023-03-20 01:49:22.320488: I tensorflow/core/common_runtime/gpu/gpu_device.cc:1261] Device interconnect StreamExecutor with strength 1 edge matrix:\n",
      "2023-03-20 01:49:22.320523: I tensorflow/core/common_runtime/gpu/gpu_device.cc:1267]      0 1 2 3 4 \n",
      "2023-03-20 01:49:22.320536: I tensorflow/core/common_runtime/gpu/gpu_device.cc:1280] 0:   N N N N N \n",
      "2023-03-20 01:49:22.320540: I tensorflow/core/common_runtime/gpu/gpu_device.cc:1280] 1:   N N N N N \n",
      "2023-03-20 01:49:22.320543: I tensorflow/core/common_runtime/gpu/gpu_device.cc:1280] 2:   N N N N N \n",
      "2023-03-20 01:49:22.320545: I tensorflow/core/common_runtime/gpu/gpu_device.cc:1280] 3:   N N N N N \n",
      "2023-03-20 01:49:22.320548: I tensorflow/core/common_runtime/gpu/gpu_device.cc:1280] 4:   N N N N N \n",
      "2023-03-20 01:49:22.326024: I tensorflow/core/common_runtime/gpu/gpu_device.cc:1406] Created TensorFlow device (/device:GPU:0 with 10076 MB memory) -> physical GPU (device: 0, name: NVIDIA GeForce RTX 2080 Ti, pci bus id: 0000:3d:00.0, compute capability: 7.5)\n",
      "2023-03-20 01:49:22.327770: I tensorflow/core/common_runtime/gpu/gpu_device.cc:1406] Created TensorFlow device (/device:GPU:1 with 10076 MB memory) -> physical GPU (device: 1, name: NVIDIA GeForce RTX 2080 Ti, pci bus id: 0000:3e:00.0, compute capability: 7.5)\n",
      "2023-03-20 01:49:22.329378: I tensorflow/core/common_runtime/gpu/gpu_device.cc:1406] Created TensorFlow device (/device:GPU:2 with 10076 MB memory) -> physical GPU (device: 2, name: NVIDIA GeForce RTX 2080 Ti, pci bus id: 0000:88:00.0, compute capability: 7.5)\n",
      "2023-03-20 01:49:22.330940: I tensorflow/core/common_runtime/gpu/gpu_device.cc:1406] Created TensorFlow device (/device:GPU:3 with 10076 MB memory) -> physical GPU (device: 3, name: NVIDIA GeForce RTX 2080 Ti, pci bus id: 0000:89:00.0, compute capability: 7.5)\n",
      "2023-03-20 01:49:22.332502: I tensorflow/core/common_runtime/gpu/gpu_device.cc:1406] Created TensorFlow device (/device:GPU:4 with 10076 MB memory) -> physical GPU (device: 4, name: NVIDIA GeForce RTX 2080 Ti, pci bus id: 0000:b1:00.0, compute capability: 7.5)\n"
     ]
    }
   ],
   "source": [
    "tf.config.experimental.list_physical_devices('GPU')\n",
    "device_lib.list_local_devices()"
   ]
  },
  {
   "cell_type": "code",
   "execution_count": 4,
   "id": "a717bbf0",
   "metadata": {},
   "outputs": [],
   "source": [
    "# #check current ram used if needed\n",
    "# print('Total Ram (GB):', psutil.virtual_memory()[0]/1000000000)\n",
    "# print('Available (GB):', psutil.virtual_memory()[1]/1000000000)\n",
    "# print('RAM Used (GB):', psutil.virtual_memory()[3]/1000000000)\n",
    "# print('RAM memory % used:', psutil.virtual_memory()[2])\n",
    "# psutil.virtual_memory()"
   ]
  },
  {
   "cell_type": "code",
   "execution_count": 5,
   "id": "32b255ce",
   "metadata": {},
   "outputs": [],
   "source": [
    "TASK_TYPE = ['DPT', 'MA', 'PVT', 'VWM']\n",
    "RUN_TYPE = ['All_task','DPT', 'MA', 'PVT', 'VWM']\n",
    "#NORMALIZE_FEATURES = ['Pupil Diameter', 'Pupil X', 'Pupil Y']\n",
    "NORMALIZE_FEATURES = ['Pupil Diameter']\n",
    "TIME_INTERVAL_EACH_SAMPLE = 1\n",
    "NUMBER_OF_TIME_SAMPLE = 250 * TIME_INTERVAL_EACH_SAMPLE\n",
    "NUMBER_OF_CHANNELS = 10\n",
    "NUMBER_OF_INTERVAL_EACH_CHANNEL = NUMBER_OF_TIME_SAMPLE//NUMBER_OF_CHANNELS"
   ]
  },
  {
   "cell_type": "code",
   "execution_count": 6,
   "id": "d59521b1",
   "metadata": {},
   "outputs": [
    {
     "name": "stdout",
     "output_type": "stream",
     "text": [
      "/nfs/ada/jbrook1/common/data/\n",
      "/nfs/ada/jbrook1/common/output/run9_CNN_pupil_drop_data/All_task/\n"
     ]
    }
   ],
   "source": [
    "CURRENT_TASK = RUN_TYPE[0]\n",
    "RUN = 'run9_CNN_pupil_drop_data/' + CURRENT_TASK+'/'\n",
    "MODEL_NAME = 'Inception_1D'\n",
    "\n",
    "CURRENT_DIR = os.getcwd()\n",
    "DATA_DIR = CURRENT_DIR + '/data/'\n",
    "MASTER_OUTPUT_DIR = CURRENT_DIR + '/output/'\n",
    "OUTPUT_DIR = MASTER_OUTPUT_DIR + RUN\n",
    "print(DATA_DIR)\n",
    "print(OUTPUT_DIR)"
   ]
  },
  {
   "cell_type": "markdown",
   "id": "8ff75a9c",
   "metadata": {},
   "source": [
    "# Preprocessing"
   ]
  },
  {
   "cell_type": "markdown",
   "id": "a0898ac0",
   "metadata": {},
   "source": [
    "## Load data"
   ]
  },
  {
   "cell_type": "code",
   "execution_count": 7,
   "id": "ed6caa92",
   "metadata": {},
   "outputs": [
    {
     "data": {
      "text/html": [
       "<div>\n",
       "<style scoped>\n",
       "    .dataframe tbody tr th:only-of-type {\n",
       "        vertical-align: middle;\n",
       "    }\n",
       "\n",
       "    .dataframe tbody tr th {\n",
       "        vertical-align: top;\n",
       "    }\n",
       "\n",
       "    .dataframe thead th {\n",
       "        text-align: right;\n",
       "    }\n",
       "</style>\n",
       "<table border=\"1\" class=\"dataframe\">\n",
       "  <thead>\n",
       "    <tr style=\"text-align: right;\">\n",
       "      <th></th>\n",
       "      <th>Task Type</th>\n",
       "      <th>SID</th>\n",
       "      <th>Trial</th>\n",
       "      <th>Stimulus Time</th>\n",
       "      <th>Reaction Time</th>\n",
       "      <th>isCorrectResponse</th>\n",
       "    </tr>\n",
       "  </thead>\n",
       "  <tbody>\n",
       "    <tr>\n",
       "      <th>0</th>\n",
       "      <td>DPT</td>\n",
       "      <td>0</td>\n",
       "      <td>0</td>\n",
       "      <td>1.402413</td>\n",
       "      <td>605.970</td>\n",
       "      <td>1.0</td>\n",
       "    </tr>\n",
       "    <tr>\n",
       "      <th>1</th>\n",
       "      <td>DPT</td>\n",
       "      <td>0</td>\n",
       "      <td>0</td>\n",
       "      <td>4.852193</td>\n",
       "      <td>486.175</td>\n",
       "      <td>1.0</td>\n",
       "    </tr>\n",
       "    <tr>\n",
       "      <th>2</th>\n",
       "      <td>DPT</td>\n",
       "      <td>0</td>\n",
       "      <td>0</td>\n",
       "      <td>8.401990</td>\n",
       "      <td>443.381</td>\n",
       "      <td>1.0</td>\n",
       "    </tr>\n",
       "    <tr>\n",
       "      <th>3</th>\n",
       "      <td>DPT</td>\n",
       "      <td>0</td>\n",
       "      <td>0</td>\n",
       "      <td>11.735102</td>\n",
       "      <td>546.256</td>\n",
       "      <td>1.0</td>\n",
       "    </tr>\n",
       "    <tr>\n",
       "      <th>4</th>\n",
       "      <td>DPT</td>\n",
       "      <td>0</td>\n",
       "      <td>0</td>\n",
       "      <td>15.518205</td>\n",
       "      <td>487.143</td>\n",
       "      <td>1.0</td>\n",
       "    </tr>\n",
       "    <tr>\n",
       "      <th>...</th>\n",
       "      <td>...</td>\n",
       "      <td>...</td>\n",
       "      <td>...</td>\n",
       "      <td>...</td>\n",
       "      <td>...</td>\n",
       "      <td>...</td>\n",
       "    </tr>\n",
       "    <tr>\n",
       "      <th>112195</th>\n",
       "      <td>VWM</td>\n",
       "      <td>57</td>\n",
       "      <td>7</td>\n",
       "      <td>220.884844</td>\n",
       "      <td>322.137</td>\n",
       "      <td>1.0</td>\n",
       "    </tr>\n",
       "    <tr>\n",
       "      <th>112196</th>\n",
       "      <td>VWM</td>\n",
       "      <td>57</td>\n",
       "      <td>7</td>\n",
       "      <td>228.184393</td>\n",
       "      <td>379.615</td>\n",
       "      <td>1.0</td>\n",
       "    </tr>\n",
       "    <tr>\n",
       "      <th>112197</th>\n",
       "      <td>VWM</td>\n",
       "      <td>57</td>\n",
       "      <td>7</td>\n",
       "      <td>235.350625</td>\n",
       "      <td>352.227</td>\n",
       "      <td>1.0</td>\n",
       "    </tr>\n",
       "    <tr>\n",
       "      <th>112198</th>\n",
       "      <td>VWM</td>\n",
       "      <td>57</td>\n",
       "      <td>7</td>\n",
       "      <td>243.966769</td>\n",
       "      <td>353.536</td>\n",
       "      <td>1.0</td>\n",
       "    </tr>\n",
       "    <tr>\n",
       "      <th>112199</th>\n",
       "      <td>VWM</td>\n",
       "      <td>57</td>\n",
       "      <td>7</td>\n",
       "      <td>251.966276</td>\n",
       "      <td>412.769</td>\n",
       "      <td>1.0</td>\n",
       "    </tr>\n",
       "  </tbody>\n",
       "</table>\n",
       "<p>112200 rows × 6 columns</p>\n",
       "</div>"
      ],
      "text/plain": [
       "       Task Type  SID  Trial  Stimulus Time  Reaction Time  isCorrectResponse\n",
       "0            DPT    0      0       1.402413        605.970                1.0\n",
       "1            DPT    0      0       4.852193        486.175                1.0\n",
       "2            DPT    0      0       8.401990        443.381                1.0\n",
       "3            DPT    0      0      11.735102        546.256                1.0\n",
       "4            DPT    0      0      15.518205        487.143                1.0\n",
       "...          ...  ...    ...            ...            ...                ...\n",
       "112195       VWM   57      7     220.884844        322.137                1.0\n",
       "112196       VWM   57      7     228.184393        379.615                1.0\n",
       "112197       VWM   57      7     235.350625        352.227                1.0\n",
       "112198       VWM   57      7     243.966769        353.536                1.0\n",
       "112199       VWM   57      7     251.966276        412.769                1.0\n",
       "\n",
       "[112200 rows x 6 columns]"
      ]
     },
     "execution_count": 7,
     "metadata": {},
     "output_type": "execute_result"
    }
   ],
   "source": [
    "behavior_df = pd.read_pickle(DATA_DIR + 'behavior_data.pickle')\n",
    "behavior_df"
   ]
  },
  {
   "cell_type": "code",
   "execution_count": 8,
   "id": "1fd26d47",
   "metadata": {},
   "outputs": [
    {
     "data": {
      "text/html": [
       "<div>\n",
       "<style scoped>\n",
       "    .dataframe tbody tr th:only-of-type {\n",
       "        vertical-align: middle;\n",
       "    }\n",
       "\n",
       "    .dataframe tbody tr th {\n",
       "        vertical-align: top;\n",
       "    }\n",
       "\n",
       "    .dataframe thead th {\n",
       "        text-align: right;\n",
       "    }\n",
       "</style>\n",
       "<table border=\"1\" class=\"dataframe\">\n",
       "  <thead>\n",
       "    <tr style=\"text-align: right;\">\n",
       "      <th></th>\n",
       "      <th>Task Type</th>\n",
       "      <th>SID</th>\n",
       "      <th>Trial</th>\n",
       "      <th>Time</th>\n",
       "      <th>Pupil Diameter</th>\n",
       "      <th>Pupil X</th>\n",
       "      <th>Pupil Y</th>\n",
       "    </tr>\n",
       "  </thead>\n",
       "  <tbody>\n",
       "    <tr>\n",
       "      <th>0</th>\n",
       "      <td>DPT</td>\n",
       "      <td>0</td>\n",
       "      <td>0</td>\n",
       "      <td>0.004</td>\n",
       "      <td>5.884283</td>\n",
       "      <td>652.900024</td>\n",
       "      <td>223.100006</td>\n",
       "    </tr>\n",
       "    <tr>\n",
       "      <th>1</th>\n",
       "      <td>DPT</td>\n",
       "      <td>0</td>\n",
       "      <td>0</td>\n",
       "      <td>0.008</td>\n",
       "      <td>5.884123</td>\n",
       "      <td>652.799988</td>\n",
       "      <td>223.300003</td>\n",
       "    </tr>\n",
       "    <tr>\n",
       "      <th>2</th>\n",
       "      <td>DPT</td>\n",
       "      <td>0</td>\n",
       "      <td>0</td>\n",
       "      <td>0.012</td>\n",
       "      <td>5.883903</td>\n",
       "      <td>653.299988</td>\n",
       "      <td>223.800003</td>\n",
       "    </tr>\n",
       "    <tr>\n",
       "      <th>3</th>\n",
       "      <td>DPT</td>\n",
       "      <td>0</td>\n",
       "      <td>0</td>\n",
       "      <td>0.016</td>\n",
       "      <td>5.883621</td>\n",
       "      <td>653.799988</td>\n",
       "      <td>224.399994</td>\n",
       "    </tr>\n",
       "    <tr>\n",
       "      <th>4</th>\n",
       "      <td>DPT</td>\n",
       "      <td>0</td>\n",
       "      <td>0</td>\n",
       "      <td>0.020</td>\n",
       "      <td>5.883276</td>\n",
       "      <td>653.400024</td>\n",
       "      <td>224.699997</td>\n",
       "    </tr>\n",
       "    <tr>\n",
       "      <th>...</th>\n",
       "      <td>...</td>\n",
       "      <td>...</td>\n",
       "      <td>...</td>\n",
       "      <td>...</td>\n",
       "      <td>...</td>\n",
       "      <td>...</td>\n",
       "      <td>...</td>\n",
       "    </tr>\n",
       "    <tr>\n",
       "      <th>157740006</th>\n",
       "      <td>VWM</td>\n",
       "      <td>57</td>\n",
       "      <td>7</td>\n",
       "      <td>274.820</td>\n",
       "      <td>2.233881</td>\n",
       "      <td>554.400024</td>\n",
       "      <td>395.899994</td>\n",
       "    </tr>\n",
       "    <tr>\n",
       "      <th>157740007</th>\n",
       "      <td>VWM</td>\n",
       "      <td>57</td>\n",
       "      <td>7</td>\n",
       "      <td>274.824</td>\n",
       "      <td>2.233667</td>\n",
       "      <td>551.400024</td>\n",
       "      <td>399.000000</td>\n",
       "    </tr>\n",
       "    <tr>\n",
       "      <th>157740008</th>\n",
       "      <td>VWM</td>\n",
       "      <td>57</td>\n",
       "      <td>7</td>\n",
       "      <td>274.828</td>\n",
       "      <td>2.234875</td>\n",
       "      <td>551.700012</td>\n",
       "      <td>394.899994</td>\n",
       "    </tr>\n",
       "    <tr>\n",
       "      <th>157740009</th>\n",
       "      <td>VWM</td>\n",
       "      <td>57</td>\n",
       "      <td>7</td>\n",
       "      <td>274.832</td>\n",
       "      <td>2.237447</td>\n",
       "      <td>550.799988</td>\n",
       "      <td>403.799988</td>\n",
       "    </tr>\n",
       "    <tr>\n",
       "      <th>157740010</th>\n",
       "      <td>VWM</td>\n",
       "      <td>57</td>\n",
       "      <td>7</td>\n",
       "      <td>274.836</td>\n",
       "      <td>2.240747</td>\n",
       "      <td>549.000000</td>\n",
       "      <td>405.100006</td>\n",
       "    </tr>\n",
       "  </tbody>\n",
       "</table>\n",
       "<p>157740011 rows × 7 columns</p>\n",
       "</div>"
      ],
      "text/plain": [
       "          Task Type  SID  Trial     Time  Pupil Diameter     Pupil X  \\\n",
       "0               DPT    0      0    0.004        5.884283  652.900024   \n",
       "1               DPT    0      0    0.008        5.884123  652.799988   \n",
       "2               DPT    0      0    0.012        5.883903  653.299988   \n",
       "3               DPT    0      0    0.016        5.883621  653.799988   \n",
       "4               DPT    0      0    0.020        5.883276  653.400024   \n",
       "...             ...  ...    ...      ...             ...         ...   \n",
       "157740006       VWM   57      7  274.820        2.233881  554.400024   \n",
       "157740007       VWM   57      7  274.824        2.233667  551.400024   \n",
       "157740008       VWM   57      7  274.828        2.234875  551.700012   \n",
       "157740009       VWM   57      7  274.832        2.237447  550.799988   \n",
       "157740010       VWM   57      7  274.836        2.240747  549.000000   \n",
       "\n",
       "              Pupil Y  \n",
       "0          223.100006  \n",
       "1          223.300003  \n",
       "2          223.800003  \n",
       "3          224.399994  \n",
       "4          224.699997  \n",
       "...               ...  \n",
       "157740006  395.899994  \n",
       "157740007  399.000000  \n",
       "157740008  394.899994  \n",
       "157740009  403.799988  \n",
       "157740010  405.100006  \n",
       "\n",
       "[157740011 rows x 7 columns]"
      ]
     },
     "execution_count": 8,
     "metadata": {},
     "output_type": "execute_result"
    }
   ],
   "source": [
    "eye_df = pd.read_pickle(DATA_DIR + 'eye_data.pickle')\n",
    "eye_df"
   ]
  },
  {
   "cell_type": "markdown",
   "id": "1eafae6b",
   "metadata": {},
   "source": [
    "## Interpolation"
   ]
  },
  {
   "cell_type": "markdown",
   "id": "2cddecb1",
   "metadata": {},
   "source": [
    "Total number of data         : 157,740,011  \n",
    "Total number of missing data :  29,124,939  \n",
    "Only missing on Pupil X and Pulpil X. Pupil Diameter is already interpolate  \n",
    "Consecutive missing data describe:  \n",
    "Count:&emsp;29124939  \n",
    "Mean:&emsp;728.6144  \n",
    "Std :&emsp;2694.344  \n",
    "Min :&emsp;1  \n",
    "25% :&emsp;32  \n",
    "50% :&emsp;143  \n",
    "75% :&emsp;659  \n",
    "Max :&emsp;71997  "
   ]
  },
  {
   "cell_type": "code",
   "execution_count": 9,
   "id": "275add3b",
   "metadata": {},
   "outputs": [],
   "source": [
    "#eye_df.isna().sum()\n",
    "\n",
    "#This code will get the consecutive missing data \n",
    "#temp = eye_df['Pupil X'].isnull().astype(int).groupby(eye_df['Pupil X'].notnull().astype(int).cumsum()).cumsum()"
   ]
  },
  {
   "cell_type": "code",
   "execution_count": null,
   "id": "eb08ce95",
   "metadata": {},
   "outputs": [],
   "source": []
  },
  {
   "cell_type": "code",
   "execution_count": null,
   "id": "7feeba3a",
   "metadata": {},
   "outputs": [],
   "source": []
  },
  {
   "cell_type": "markdown",
   "id": "e76408b9",
   "metadata": {},
   "source": [
    "## Normalizing Feature Data"
   ]
  },
  {
   "cell_type": "code",
   "execution_count": 10,
   "id": "1549dfc5",
   "metadata": {},
   "outputs": [],
   "source": [
    "def Fit_data(type_of_scaler, list_of_features, eye_data):\n",
    "    scaler = {}\n",
    "    for feature in tqdm(list_of_features, desc='Normalizing Data'):\n",
    "        current_data = eye_data[feature]\n",
    "        scaler[feature] = type_of_scaler().fit(np.array(current_data).reshape(-1,1))\n",
    "    return scaler\n",
    "\n",
    "def Transform_data(scaler, list_of_features, eye_data):\n",
    "    eye_data_scaled = copy.copy(eye_data)\n",
    "    \n",
    "    for feature in tqdm(list_of_features, desc='Normalizing Data'):\n",
    "        current_data = eye_data[feature]\n",
    "        scaled_data = scaler[feature].transform(np.array(current_data).reshape(-1,1))\n",
    "        eye_data_scaled[feature] = scaled_data\n",
    "        \n",
    "    return eye_data_scaled"
   ]
  },
  {
   "cell_type": "code",
   "execution_count": 11,
   "id": "66f22cc4",
   "metadata": {},
   "outputs": [
    {
     "data": {
      "application/vnd.jupyter.widget-view+json": {
       "model_id": "4a9e03ea300c45848605e245f290bdbe",
       "version_major": 2,
       "version_minor": 0
      },
      "text/plain": [
       "Normalizing Data:   0%|          | 0/3 [00:00<?, ?it/s]"
      ]
     },
     "metadata": {},
     "output_type": "display_data"
    },
    {
     "data": {
      "application/vnd.jupyter.widget-view+json": {
       "model_id": "f44d50d2686d4a49823b494bd13e9d97",
       "version_major": 2,
       "version_minor": 0
      },
      "text/plain": [
       "Normalizing Data:   0%|          | 0/3 [00:00<?, ?it/s]"
      ]
     },
     "metadata": {},
     "output_type": "display_data"
    },
    {
     "data": {
      "text/html": [
       "<div>\n",
       "<style scoped>\n",
       "    .dataframe tbody tr th:only-of-type {\n",
       "        vertical-align: middle;\n",
       "    }\n",
       "\n",
       "    .dataframe tbody tr th {\n",
       "        vertical-align: top;\n",
       "    }\n",
       "\n",
       "    .dataframe thead th {\n",
       "        text-align: right;\n",
       "    }\n",
       "</style>\n",
       "<table border=\"1\" class=\"dataframe\">\n",
       "  <thead>\n",
       "    <tr style=\"text-align: right;\">\n",
       "      <th></th>\n",
       "      <th>Task Type</th>\n",
       "      <th>SID</th>\n",
       "      <th>Trial</th>\n",
       "      <th>Time</th>\n",
       "      <th>Pupil Diameter</th>\n",
       "      <th>Pupil X</th>\n",
       "      <th>Pupil Y</th>\n",
       "    </tr>\n",
       "  </thead>\n",
       "  <tbody>\n",
       "    <tr>\n",
       "      <th>0</th>\n",
       "      <td>DPT</td>\n",
       "      <td>0</td>\n",
       "      <td>0</td>\n",
       "      <td>0.004</td>\n",
       "      <td>2.014614</td>\n",
       "      <td>1.228511</td>\n",
       "      <td>-1.238277</td>\n",
       "    </tr>\n",
       "    <tr>\n",
       "      <th>1</th>\n",
       "      <td>DPT</td>\n",
       "      <td>0</td>\n",
       "      <td>0</td>\n",
       "      <td>0.008</td>\n",
       "      <td>2.014439</td>\n",
       "      <td>1.227608</td>\n",
       "      <td>-1.236659</td>\n",
       "    </tr>\n",
       "    <tr>\n",
       "      <th>2</th>\n",
       "      <td>DPT</td>\n",
       "      <td>0</td>\n",
       "      <td>0</td>\n",
       "      <td>0.012</td>\n",
       "      <td>2.014198</td>\n",
       "      <td>1.232125</td>\n",
       "      <td>-1.232612</td>\n",
       "    </tr>\n",
       "    <tr>\n",
       "      <th>3</th>\n",
       "      <td>DPT</td>\n",
       "      <td>0</td>\n",
       "      <td>0</td>\n",
       "      <td>0.016</td>\n",
       "      <td>2.013889</td>\n",
       "      <td>1.236642</td>\n",
       "      <td>-1.227757</td>\n",
       "    </tr>\n",
       "    <tr>\n",
       "      <th>4</th>\n",
       "      <td>DPT</td>\n",
       "      <td>0</td>\n",
       "      <td>0</td>\n",
       "      <td>0.020</td>\n",
       "      <td>2.013511</td>\n",
       "      <td>1.233028</td>\n",
       "      <td>-1.225329</td>\n",
       "    </tr>\n",
       "    <tr>\n",
       "      <th>...</th>\n",
       "      <td>...</td>\n",
       "      <td>...</td>\n",
       "      <td>...</td>\n",
       "      <td>...</td>\n",
       "      <td>...</td>\n",
       "      <td>...</td>\n",
       "      <td>...</td>\n",
       "    </tr>\n",
       "    <tr>\n",
       "      <th>157740006</th>\n",
       "      <td>VWM</td>\n",
       "      <td>57</td>\n",
       "      <td>7</td>\n",
       "      <td>274.820</td>\n",
       "      <td>-1.983777</td>\n",
       "      <td>0.338654</td>\n",
       "      <td>0.160170</td>\n",
       "    </tr>\n",
       "    <tr>\n",
       "      <th>157740007</th>\n",
       "      <td>VWM</td>\n",
       "      <td>57</td>\n",
       "      <td>7</td>\n",
       "      <td>274.824</td>\n",
       "      <td>-1.984012</td>\n",
       "      <td>0.311551</td>\n",
       "      <td>0.185258</td>\n",
       "    </tr>\n",
       "    <tr>\n",
       "      <th>157740008</th>\n",
       "      <td>VWM</td>\n",
       "      <td>57</td>\n",
       "      <td>7</td>\n",
       "      <td>274.828</td>\n",
       "      <td>-1.982688</td>\n",
       "      <td>0.314262</td>\n",
       "      <td>0.152078</td>\n",
       "    </tr>\n",
       "    <tr>\n",
       "      <th>157740009</th>\n",
       "      <td>VWM</td>\n",
       "      <td>57</td>\n",
       "      <td>7</td>\n",
       "      <td>274.832</td>\n",
       "      <td>-1.979871</td>\n",
       "      <td>0.306131</td>\n",
       "      <td>0.224104</td>\n",
       "    </tr>\n",
       "    <tr>\n",
       "      <th>157740010</th>\n",
       "      <td>VWM</td>\n",
       "      <td>57</td>\n",
       "      <td>7</td>\n",
       "      <td>274.836</td>\n",
       "      <td>-1.976256</td>\n",
       "      <td>0.289869</td>\n",
       "      <td>0.234625</td>\n",
       "    </tr>\n",
       "  </tbody>\n",
       "</table>\n",
       "<p>157740011 rows × 7 columns</p>\n",
       "</div>"
      ],
      "text/plain": [
       "          Task Type  SID  Trial     Time  Pupil Diameter   Pupil X   Pupil Y\n",
       "0               DPT    0      0    0.004        2.014614  1.228511 -1.238277\n",
       "1               DPT    0      0    0.008        2.014439  1.227608 -1.236659\n",
       "2               DPT    0      0    0.012        2.014198  1.232125 -1.232612\n",
       "3               DPT    0      0    0.016        2.013889  1.236642 -1.227757\n",
       "4               DPT    0      0    0.020        2.013511  1.233028 -1.225329\n",
       "...             ...  ...    ...      ...             ...       ...       ...\n",
       "157740006       VWM   57      7  274.820       -1.983777  0.338654  0.160170\n",
       "157740007       VWM   57      7  274.824       -1.984012  0.311551  0.185258\n",
       "157740008       VWM   57      7  274.828       -1.982688  0.314262  0.152078\n",
       "157740009       VWM   57      7  274.832       -1.979871  0.306131  0.224104\n",
       "157740010       VWM   57      7  274.836       -1.976256  0.289869  0.234625\n",
       "\n",
       "[157740011 rows x 7 columns]"
      ]
     },
     "execution_count": 11,
     "metadata": {},
     "output_type": "execute_result"
    }
   ],
   "source": [
    "scaler = Fit_data(StandardScaler, NORMALIZE_FEATURES, eye_df)\n",
    "eye_df_scaled = Transform_data(scaler,NORMALIZE_FEATURES, eye_df)\n",
    "eye_df_scaled"
   ]
  },
  {
   "cell_type": "code",
   "execution_count": 12,
   "id": "800b2c64",
   "metadata": {},
   "outputs": [
    {
     "name": "stdout",
     "output_type": "stream",
     "text": [
      "['Pupil Diameter', 'Pupil X', 'Pupil Y']\n",
      "[4.04500518]\n",
      "[516.91381362]\n",
      "[376.10845024]\n"
     ]
    }
   ],
   "source": [
    "print(NORMALIZE_FEATURES)\n",
    "for variable in NORMALIZE_FEATURES:\n",
    "    print(scaler[variable].mean_)"
   ]
  },
  {
   "cell_type": "code",
   "execution_count": null,
   "id": "fae439c5",
   "metadata": {},
   "outputs": [],
   "source": []
  },
  {
   "cell_type": "markdown",
   "id": "3030ca4a",
   "metadata": {},
   "source": [
    "## Generate X and Y sample"
   ]
  },
  {
   "cell_type": "code",
   "execution_count": 15,
   "id": "5d8144e9",
   "metadata": {},
   "outputs": [
    {
     "ename": "KeyError",
     "evalue": "\"['Pupil X', 'Pupil Y'] not found in axis\"",
     "output_type": "error",
     "traceback": [
      "\u001b[0;31m---------------------------------------------------------------------------\u001b[0m",
      "\u001b[0;31mKeyError\u001b[0m                                  Traceback (most recent call last)",
      "Cell \u001b[0;32mIn[15], line 1\u001b[0m\n\u001b[0;32m----> 1\u001b[0m eye_df_scaled \u001b[38;5;241m=\u001b[39m \u001b[43meye_df_scaled\u001b[49m\u001b[38;5;241;43m.\u001b[39;49m\u001b[43mdrop\u001b[49m\u001b[43m(\u001b[49m\u001b[43m[\u001b[49m\u001b[38;5;124;43m'\u001b[39;49m\u001b[38;5;124;43mPupil X\u001b[39;49m\u001b[38;5;124;43m'\u001b[39;49m\u001b[43m,\u001b[49m\u001b[38;5;124;43m'\u001b[39;49m\u001b[38;5;124;43mPupil Y\u001b[39;49m\u001b[38;5;124;43m'\u001b[39;49m\u001b[43m]\u001b[49m\u001b[43m,\u001b[49m\u001b[43maxis\u001b[49m\u001b[38;5;241;43m=\u001b[39;49m\u001b[38;5;241;43m1\u001b[39;49m\u001b[43m)\u001b[49m\n",
      "File \u001b[0;32m~/.conda/envs/tf/lib/python3.9/site-packages/pandas/util/_decorators.py:331\u001b[0m, in \u001b[0;36mdeprecate_nonkeyword_arguments.<locals>.decorate.<locals>.wrapper\u001b[0;34m(*args, **kwargs)\u001b[0m\n\u001b[1;32m    325\u001b[0m \u001b[38;5;28;01mif\u001b[39;00m \u001b[38;5;28mlen\u001b[39m(args) \u001b[38;5;241m>\u001b[39m num_allow_args:\n\u001b[1;32m    326\u001b[0m     warnings\u001b[38;5;241m.\u001b[39mwarn(\n\u001b[1;32m    327\u001b[0m         msg\u001b[38;5;241m.\u001b[39mformat(arguments\u001b[38;5;241m=\u001b[39m_format_argument_list(allow_args)),\n\u001b[1;32m    328\u001b[0m         \u001b[38;5;167;01mFutureWarning\u001b[39;00m,\n\u001b[1;32m    329\u001b[0m         stacklevel\u001b[38;5;241m=\u001b[39mfind_stack_level(),\n\u001b[1;32m    330\u001b[0m     )\n\u001b[0;32m--> 331\u001b[0m \u001b[38;5;28;01mreturn\u001b[39;00m \u001b[43mfunc\u001b[49m\u001b[43m(\u001b[49m\u001b[38;5;241;43m*\u001b[39;49m\u001b[43margs\u001b[49m\u001b[43m,\u001b[49m\u001b[43m \u001b[49m\u001b[38;5;241;43m*\u001b[39;49m\u001b[38;5;241;43m*\u001b[39;49m\u001b[43mkwargs\u001b[49m\u001b[43m)\u001b[49m\n",
      "File \u001b[0;32m~/.conda/envs/tf/lib/python3.9/site-packages/pandas/core/frame.py:5396\u001b[0m, in \u001b[0;36mDataFrame.drop\u001b[0;34m(self, labels, axis, index, columns, level, inplace, errors)\u001b[0m\n\u001b[1;32m   5248\u001b[0m \u001b[38;5;129m@deprecate_nonkeyword_arguments\u001b[39m(version\u001b[38;5;241m=\u001b[39m\u001b[38;5;28;01mNone\u001b[39;00m, allowed_args\u001b[38;5;241m=\u001b[39m[\u001b[38;5;124m\"\u001b[39m\u001b[38;5;124mself\u001b[39m\u001b[38;5;124m\"\u001b[39m, \u001b[38;5;124m\"\u001b[39m\u001b[38;5;124mlabels\u001b[39m\u001b[38;5;124m\"\u001b[39m])\n\u001b[1;32m   5249\u001b[0m \u001b[38;5;28;01mdef\u001b[39;00m \u001b[38;5;21mdrop\u001b[39m(  \u001b[38;5;66;03m# type: ignore[override]\u001b[39;00m\n\u001b[1;32m   5250\u001b[0m     \u001b[38;5;28mself\u001b[39m,\n\u001b[0;32m   (...)\u001b[0m\n\u001b[1;32m   5257\u001b[0m     errors: IgnoreRaise \u001b[38;5;241m=\u001b[39m \u001b[38;5;124m\"\u001b[39m\u001b[38;5;124mraise\u001b[39m\u001b[38;5;124m\"\u001b[39m,\n\u001b[1;32m   5258\u001b[0m ) \u001b[38;5;241m-\u001b[39m\u001b[38;5;241m>\u001b[39m DataFrame \u001b[38;5;241m|\u001b[39m \u001b[38;5;28;01mNone\u001b[39;00m:\n\u001b[1;32m   5259\u001b[0m     \u001b[38;5;124;03m\"\"\"\u001b[39;00m\n\u001b[1;32m   5260\u001b[0m \u001b[38;5;124;03m    Drop specified labels from rows or columns.\u001b[39;00m\n\u001b[1;32m   5261\u001b[0m \n\u001b[0;32m   (...)\u001b[0m\n\u001b[1;32m   5394\u001b[0m \u001b[38;5;124;03m            weight  1.0     0.8\u001b[39;00m\n\u001b[1;32m   5395\u001b[0m \u001b[38;5;124;03m    \"\"\"\u001b[39;00m\n\u001b[0;32m-> 5396\u001b[0m     \u001b[38;5;28;01mreturn\u001b[39;00m \u001b[38;5;28;43msuper\u001b[39;49m\u001b[43m(\u001b[49m\u001b[43m)\u001b[49m\u001b[38;5;241;43m.\u001b[39;49m\u001b[43mdrop\u001b[49m\u001b[43m(\u001b[49m\n\u001b[1;32m   5397\u001b[0m \u001b[43m        \u001b[49m\u001b[43mlabels\u001b[49m\u001b[38;5;241;43m=\u001b[39;49m\u001b[43mlabels\u001b[49m\u001b[43m,\u001b[49m\n\u001b[1;32m   5398\u001b[0m \u001b[43m        \u001b[49m\u001b[43maxis\u001b[49m\u001b[38;5;241;43m=\u001b[39;49m\u001b[43maxis\u001b[49m\u001b[43m,\u001b[49m\n\u001b[1;32m   5399\u001b[0m \u001b[43m        \u001b[49m\u001b[43mindex\u001b[49m\u001b[38;5;241;43m=\u001b[39;49m\u001b[43mindex\u001b[49m\u001b[43m,\u001b[49m\n\u001b[1;32m   5400\u001b[0m \u001b[43m        \u001b[49m\u001b[43mcolumns\u001b[49m\u001b[38;5;241;43m=\u001b[39;49m\u001b[43mcolumns\u001b[49m\u001b[43m,\u001b[49m\n\u001b[1;32m   5401\u001b[0m \u001b[43m        \u001b[49m\u001b[43mlevel\u001b[49m\u001b[38;5;241;43m=\u001b[39;49m\u001b[43mlevel\u001b[49m\u001b[43m,\u001b[49m\n\u001b[1;32m   5402\u001b[0m \u001b[43m        \u001b[49m\u001b[43minplace\u001b[49m\u001b[38;5;241;43m=\u001b[39;49m\u001b[43minplace\u001b[49m\u001b[43m,\u001b[49m\n\u001b[1;32m   5403\u001b[0m \u001b[43m        \u001b[49m\u001b[43merrors\u001b[49m\u001b[38;5;241;43m=\u001b[39;49m\u001b[43merrors\u001b[49m\u001b[43m,\u001b[49m\n\u001b[1;32m   5404\u001b[0m \u001b[43m    \u001b[49m\u001b[43m)\u001b[49m\n",
      "File \u001b[0;32m~/.conda/envs/tf/lib/python3.9/site-packages/pandas/util/_decorators.py:331\u001b[0m, in \u001b[0;36mdeprecate_nonkeyword_arguments.<locals>.decorate.<locals>.wrapper\u001b[0;34m(*args, **kwargs)\u001b[0m\n\u001b[1;32m    325\u001b[0m \u001b[38;5;28;01mif\u001b[39;00m \u001b[38;5;28mlen\u001b[39m(args) \u001b[38;5;241m>\u001b[39m num_allow_args:\n\u001b[1;32m    326\u001b[0m     warnings\u001b[38;5;241m.\u001b[39mwarn(\n\u001b[1;32m    327\u001b[0m         msg\u001b[38;5;241m.\u001b[39mformat(arguments\u001b[38;5;241m=\u001b[39m_format_argument_list(allow_args)),\n\u001b[1;32m    328\u001b[0m         \u001b[38;5;167;01mFutureWarning\u001b[39;00m,\n\u001b[1;32m    329\u001b[0m         stacklevel\u001b[38;5;241m=\u001b[39mfind_stack_level(),\n\u001b[1;32m    330\u001b[0m     )\n\u001b[0;32m--> 331\u001b[0m \u001b[38;5;28;01mreturn\u001b[39;00m \u001b[43mfunc\u001b[49m\u001b[43m(\u001b[49m\u001b[38;5;241;43m*\u001b[39;49m\u001b[43margs\u001b[49m\u001b[43m,\u001b[49m\u001b[43m \u001b[49m\u001b[38;5;241;43m*\u001b[39;49m\u001b[38;5;241;43m*\u001b[39;49m\u001b[43mkwargs\u001b[49m\u001b[43m)\u001b[49m\n",
      "File \u001b[0;32m~/.conda/envs/tf/lib/python3.9/site-packages/pandas/core/generic.py:4505\u001b[0m, in \u001b[0;36mNDFrame.drop\u001b[0;34m(self, labels, axis, index, columns, level, inplace, errors)\u001b[0m\n\u001b[1;32m   4503\u001b[0m \u001b[38;5;28;01mfor\u001b[39;00m axis, labels \u001b[38;5;129;01min\u001b[39;00m axes\u001b[38;5;241m.\u001b[39mitems():\n\u001b[1;32m   4504\u001b[0m     \u001b[38;5;28;01mif\u001b[39;00m labels \u001b[38;5;129;01mis\u001b[39;00m \u001b[38;5;129;01mnot\u001b[39;00m \u001b[38;5;28;01mNone\u001b[39;00m:\n\u001b[0;32m-> 4505\u001b[0m         obj \u001b[38;5;241m=\u001b[39m \u001b[43mobj\u001b[49m\u001b[38;5;241;43m.\u001b[39;49m\u001b[43m_drop_axis\u001b[49m\u001b[43m(\u001b[49m\u001b[43mlabels\u001b[49m\u001b[43m,\u001b[49m\u001b[43m \u001b[49m\u001b[43maxis\u001b[49m\u001b[43m,\u001b[49m\u001b[43m \u001b[49m\u001b[43mlevel\u001b[49m\u001b[38;5;241;43m=\u001b[39;49m\u001b[43mlevel\u001b[49m\u001b[43m,\u001b[49m\u001b[43m \u001b[49m\u001b[43merrors\u001b[49m\u001b[38;5;241;43m=\u001b[39;49m\u001b[43merrors\u001b[49m\u001b[43m)\u001b[49m\n\u001b[1;32m   4507\u001b[0m \u001b[38;5;28;01mif\u001b[39;00m inplace:\n\u001b[1;32m   4508\u001b[0m     \u001b[38;5;28mself\u001b[39m\u001b[38;5;241m.\u001b[39m_update_inplace(obj)\n",
      "File \u001b[0;32m~/.conda/envs/tf/lib/python3.9/site-packages/pandas/core/generic.py:4546\u001b[0m, in \u001b[0;36mNDFrame._drop_axis\u001b[0;34m(self, labels, axis, level, errors, only_slice)\u001b[0m\n\u001b[1;32m   4544\u001b[0m         new_axis \u001b[38;5;241m=\u001b[39m axis\u001b[38;5;241m.\u001b[39mdrop(labels, level\u001b[38;5;241m=\u001b[39mlevel, errors\u001b[38;5;241m=\u001b[39merrors)\n\u001b[1;32m   4545\u001b[0m     \u001b[38;5;28;01melse\u001b[39;00m:\n\u001b[0;32m-> 4546\u001b[0m         new_axis \u001b[38;5;241m=\u001b[39m \u001b[43maxis\u001b[49m\u001b[38;5;241;43m.\u001b[39;49m\u001b[43mdrop\u001b[49m\u001b[43m(\u001b[49m\u001b[43mlabels\u001b[49m\u001b[43m,\u001b[49m\u001b[43m \u001b[49m\u001b[43merrors\u001b[49m\u001b[38;5;241;43m=\u001b[39;49m\u001b[43merrors\u001b[49m\u001b[43m)\u001b[49m\n\u001b[1;32m   4547\u001b[0m     indexer \u001b[38;5;241m=\u001b[39m axis\u001b[38;5;241m.\u001b[39mget_indexer(new_axis)\n\u001b[1;32m   4549\u001b[0m \u001b[38;5;66;03m# Case for non-unique axis\u001b[39;00m\n\u001b[1;32m   4550\u001b[0m \u001b[38;5;28;01melse\u001b[39;00m:\n",
      "File \u001b[0;32m~/.conda/envs/tf/lib/python3.9/site-packages/pandas/core/indexes/base.py:6977\u001b[0m, in \u001b[0;36mIndex.drop\u001b[0;34m(self, labels, errors)\u001b[0m\n\u001b[1;32m   6975\u001b[0m \u001b[38;5;28;01mif\u001b[39;00m mask\u001b[38;5;241m.\u001b[39many():\n\u001b[1;32m   6976\u001b[0m     \u001b[38;5;28;01mif\u001b[39;00m errors \u001b[38;5;241m!=\u001b[39m \u001b[38;5;124m\"\u001b[39m\u001b[38;5;124mignore\u001b[39m\u001b[38;5;124m\"\u001b[39m:\n\u001b[0;32m-> 6977\u001b[0m         \u001b[38;5;28;01mraise\u001b[39;00m \u001b[38;5;167;01mKeyError\u001b[39;00m(\u001b[38;5;124mf\u001b[39m\u001b[38;5;124m\"\u001b[39m\u001b[38;5;132;01m{\u001b[39;00m\u001b[38;5;28mlist\u001b[39m(labels[mask])\u001b[38;5;132;01m}\u001b[39;00m\u001b[38;5;124m not found in axis\u001b[39m\u001b[38;5;124m\"\u001b[39m)\n\u001b[1;32m   6978\u001b[0m     indexer \u001b[38;5;241m=\u001b[39m indexer[\u001b[38;5;241m~\u001b[39mmask]\n\u001b[1;32m   6979\u001b[0m \u001b[38;5;28;01mreturn\u001b[39;00m \u001b[38;5;28mself\u001b[39m\u001b[38;5;241m.\u001b[39mdelete(indexer)\n",
      "\u001b[0;31mKeyError\u001b[0m: \"['Pupil X', 'Pupil Y'] not found in axis\""
     ]
    }
   ],
   "source": [
    "eye_df_scaled = eye_df_scaled.drop(['Pupil X','Pupil Y'],axis=1)"
   ]
  },
  {
   "cell_type": "code",
   "execution_count": 30,
   "id": "001dce46",
   "metadata": {},
   "outputs": [],
   "source": [
    "def Generate_X_Y_sample(TYPE_OF_TASK, SUBJECT_BEGIN, SUBJECT_END, NUMBER_OF_TRIAL, NUMBER_TO_GENERATE,\n",
    "                        behaviour_data, eye_data):\n",
    "    behavior_grouped = behaviour_data.groupby(['Task Type', 'SID', 'Trial'])\n",
    "    eye_grouped = eye_data.groupby(['Task Type', 'SID', 'Trial'])\n",
    "\n",
    "    X = []\n",
    "    Y = []\n",
    "    for task_type in tqdm(TYPE_OF_TASK, desc='Task_type'):\n",
    "        #if task_type != CURRENT_TASK or CURRENT_TASK  != 'All_task':\n",
    "        #    continue\n",
    "        #for each task_type\n",
    "        for sid in tqdm(range(SUBJECT_BEGIN, SUBJECT_END), desc='Subject ID'):\n",
    "            #for each subject id\n",
    "            for i in range(NUMBER_OF_TRIAL):\n",
    "                #for each trial\n",
    "                \n",
    "                #if the data is not availible, it will raise an error\n",
    "                try:\n",
    "                    behavior_temp = behavior_grouped.get_group((task_type,sid,i))\n",
    "                except:\n",
    "                    continue\n",
    "                eye_temp = eye_grouped.get_group((task_type,sid,i))\n",
    "\n",
    "                for j in behavior_temp['Stimulus Time']:\n",
    "                    #for each stimulus time, j is the stimulus time\n",
    "                    for k in range(NUMBER_TO_GENERATE):\n",
    "                        # k is the number of sample to generate after the time j\n",
    "                        # the first samples is a positive sample, all sample after the first will the the negative sample\n",
    "\n",
    "                        ###########################\n",
    "                        #This code will generate X#\n",
    "                        ###########################\n",
    "                        begin = j + k*TIME_INTERVAL_EACH_SAMPLE\n",
    "                        end = begin + TIME_INTERVAL_EACH_SAMPLE\n",
    "                        eye_temp2 = eye_temp.query('Time >= @begin and Time <= @end')[NORMALIZE_FEATURES]\n",
    "                        if eye_temp2.shape[0] == 0:\n",
    "                            #This is an empty case\n",
    "                            continue\n",
    "\n",
    "                        if eye_temp2.isna().sum().sum() != 0:\n",
    "                            #This is an missing data case, drop the sample\n",
    "                            continue\n",
    "\n",
    "                        if eye_temp2.shape[0] == NUMBER_OF_TIME_SAMPLE + 1:\n",
    "                            #this is an extra sample case, drop the last one\n",
    "#                             print(eye_temp2.shape, ' sid:', sid, ' i:', i, ' j:', j)\n",
    "                            eye_temp2 = eye_temp2.drop(eye_temp2.tail(1).index)\n",
    "\n",
    "                        #this code to cut the sample into smaller channels\n",
    "                        #if NUMBER_OF_CHANNELS = 10, shape: (250,3,1) -> (25,3,10)\n",
    "                        eye_temp3 = []\n",
    "#                         for l in range(NUMBER_OF_CHANNELS):\n",
    "#                             #for each channel loop\n",
    "#                             begin_l = l*NUMBER_OF_INTERVAL_EACH_CHANNEL\n",
    "#                             end_l = begin_l + NUMBER_OF_INTERVAL_EACH_CHANNEL\n",
    "#                             eye_temp3.append(eye_temp2[begin_l:end_l])\n",
    "#                             #end l loop\n",
    "#                         eye_temp2 = np.array(eye_temp3).swapaxes(0,2).swapaxes(0,1)\n",
    "                        \n",
    "                        X.append(eye_temp2[['Pupil Diameter']])\n",
    "\n",
    "                        ###########################\n",
    "                        #This code will generate Y#\n",
    "                        ###########################\n",
    "                        if k == 0:\n",
    "                            Y_temp = [1]\n",
    "                        else:\n",
    "                            Y_temp = [0]\n",
    "                        Y.append(Y_temp)\n",
    "\n",
    "                        #end k loop\n",
    "                    # end j loop\n",
    "                #end i loop\n",
    "            #end sid loop\n",
    "        #end task_type loop\n",
    "\n",
    "    X = np.array(X)\n",
    "    Y = np.array(Y)\n",
    "    return X, Y"
   ]
  },
  {
   "cell_type": "code",
   "execution_count": 31,
   "id": "26d8b359",
   "metadata": {},
   "outputs": [
    {
     "data": {
      "application/vnd.jupyter.widget-view+json": {
       "model_id": "c8c78ba8ad83404ca647a8833d3ed3fa",
       "version_major": 2,
       "version_minor": 0
      },
      "text/plain": [
       "Task_type:   0%|          | 0/4 [00:00<?, ?it/s]"
      ]
     },
     "metadata": {},
     "output_type": "display_data"
    },
    {
     "data": {
      "application/vnd.jupyter.widget-view+json": {
       "model_id": "b1f78e6957f443ce9ba00df22b184a0a",
       "version_major": 2,
       "version_minor": 0
      },
      "text/plain": [
       "Subject ID:   0%|          | 0/53 [00:00<?, ?it/s]"
      ]
     },
     "metadata": {},
     "output_type": "display_data"
    },
    {
     "ename": "KeyError",
     "evalue": "\"['Pupil X', 'Pupil Y'] not in index\"",
     "output_type": "error",
     "traceback": [
      "\u001b[0;31m---------------------------------------------------------------------------\u001b[0m",
      "\u001b[0;31mKeyError\u001b[0m                                  Traceback (most recent call last)",
      "Cell \u001b[0;32mIn[31], line 2\u001b[0m\n\u001b[1;32m      1\u001b[0m \u001b[38;5;66;03m#abnormal shape: (251, 7) and (0, 7)\u001b[39;00m\n\u001b[0;32m----> 2\u001b[0m X_final, Y_final \u001b[38;5;241m=\u001b[39m \u001b[43mGenerate_X_Y_sample\u001b[49m\u001b[43m(\u001b[49m\u001b[43mTASK_TYPE\u001b[49m\u001b[43m,\u001b[49m\u001b[43m \u001b[49m\u001b[38;5;241;43m0\u001b[39;49m\u001b[43m,\u001b[49m\u001b[43m \u001b[49m\u001b[38;5;241;43m53\u001b[39;49m\u001b[43m,\u001b[49m\u001b[43m \u001b[49m\u001b[38;5;241;43m10\u001b[39;49m\u001b[43m,\u001b[49m\u001b[43m \u001b[49m\u001b[38;5;241;43m3\u001b[39;49m\u001b[43m,\u001b[49m\u001b[43m \u001b[49m\u001b[43mbehavior_df\u001b[49m\u001b[43m,\u001b[49m\u001b[43m \u001b[49m\u001b[43meye_df_scaled\u001b[49m\u001b[43m)\u001b[49m\n",
      "Cell \u001b[0;32mIn[30], line 35\u001b[0m, in \u001b[0;36mGenerate_X_Y_sample\u001b[0;34m(TYPE_OF_TASK, SUBJECT_BEGIN, SUBJECT_END, NUMBER_OF_TRIAL, NUMBER_TO_GENERATE, behaviour_data, eye_data)\u001b[0m\n\u001b[1;32m     33\u001b[0m begin \u001b[38;5;241m=\u001b[39m j \u001b[38;5;241m+\u001b[39m k\u001b[38;5;241m*\u001b[39mTIME_INTERVAL_EACH_SAMPLE\n\u001b[1;32m     34\u001b[0m end \u001b[38;5;241m=\u001b[39m begin \u001b[38;5;241m+\u001b[39m TIME_INTERVAL_EACH_SAMPLE\n\u001b[0;32m---> 35\u001b[0m eye_temp2 \u001b[38;5;241m=\u001b[39m \u001b[43meye_temp\u001b[49m\u001b[38;5;241;43m.\u001b[39;49m\u001b[43mquery\u001b[49m\u001b[43m(\u001b[49m\u001b[38;5;124;43m'\u001b[39;49m\u001b[38;5;124;43mTime >= @begin and Time <= @end\u001b[39;49m\u001b[38;5;124;43m'\u001b[39;49m\u001b[43m)\u001b[49m\u001b[43m[\u001b[49m\u001b[43mNORMALIZE_FEATURES\u001b[49m\u001b[43m]\u001b[49m\n\u001b[1;32m     36\u001b[0m \u001b[38;5;28;01mif\u001b[39;00m eye_temp2\u001b[38;5;241m.\u001b[39mshape[\u001b[38;5;241m0\u001b[39m] \u001b[38;5;241m==\u001b[39m \u001b[38;5;241m0\u001b[39m:\n\u001b[1;32m     37\u001b[0m     \u001b[38;5;66;03m#This is an empty case\u001b[39;00m\n\u001b[1;32m     38\u001b[0m     \u001b[38;5;28;01mcontinue\u001b[39;00m\n",
      "File \u001b[0;32m~/.conda/envs/tf/lib/python3.9/site-packages/pandas/core/frame.py:3811\u001b[0m, in \u001b[0;36mDataFrame.__getitem__\u001b[0;34m(self, key)\u001b[0m\n\u001b[1;32m   3809\u001b[0m     \u001b[38;5;28;01mif\u001b[39;00m is_iterator(key):\n\u001b[1;32m   3810\u001b[0m         key \u001b[38;5;241m=\u001b[39m \u001b[38;5;28mlist\u001b[39m(key)\n\u001b[0;32m-> 3811\u001b[0m     indexer \u001b[38;5;241m=\u001b[39m \u001b[38;5;28;43mself\u001b[39;49m\u001b[38;5;241;43m.\u001b[39;49m\u001b[43mcolumns\u001b[49m\u001b[38;5;241;43m.\u001b[39;49m\u001b[43m_get_indexer_strict\u001b[49m\u001b[43m(\u001b[49m\u001b[43mkey\u001b[49m\u001b[43m,\u001b[49m\u001b[43m \u001b[49m\u001b[38;5;124;43m\"\u001b[39;49m\u001b[38;5;124;43mcolumns\u001b[39;49m\u001b[38;5;124;43m\"\u001b[39;49m\u001b[43m)\u001b[49m[\u001b[38;5;241m1\u001b[39m]\n\u001b[1;32m   3813\u001b[0m \u001b[38;5;66;03m# take() does not accept boolean indexers\u001b[39;00m\n\u001b[1;32m   3814\u001b[0m \u001b[38;5;28;01mif\u001b[39;00m \u001b[38;5;28mgetattr\u001b[39m(indexer, \u001b[38;5;124m\"\u001b[39m\u001b[38;5;124mdtype\u001b[39m\u001b[38;5;124m\"\u001b[39m, \u001b[38;5;28;01mNone\u001b[39;00m) \u001b[38;5;241m==\u001b[39m \u001b[38;5;28mbool\u001b[39m:\n",
      "File \u001b[0;32m~/.conda/envs/tf/lib/python3.9/site-packages/pandas/core/indexes/base.py:6113\u001b[0m, in \u001b[0;36mIndex._get_indexer_strict\u001b[0;34m(self, key, axis_name)\u001b[0m\n\u001b[1;32m   6110\u001b[0m \u001b[38;5;28;01melse\u001b[39;00m:\n\u001b[1;32m   6111\u001b[0m     keyarr, indexer, new_indexer \u001b[38;5;241m=\u001b[39m \u001b[38;5;28mself\u001b[39m\u001b[38;5;241m.\u001b[39m_reindex_non_unique(keyarr)\n\u001b[0;32m-> 6113\u001b[0m \u001b[38;5;28;43mself\u001b[39;49m\u001b[38;5;241;43m.\u001b[39;49m\u001b[43m_raise_if_missing\u001b[49m\u001b[43m(\u001b[49m\u001b[43mkeyarr\u001b[49m\u001b[43m,\u001b[49m\u001b[43m \u001b[49m\u001b[43mindexer\u001b[49m\u001b[43m,\u001b[49m\u001b[43m \u001b[49m\u001b[43maxis_name\u001b[49m\u001b[43m)\u001b[49m\n\u001b[1;32m   6115\u001b[0m keyarr \u001b[38;5;241m=\u001b[39m \u001b[38;5;28mself\u001b[39m\u001b[38;5;241m.\u001b[39mtake(indexer)\n\u001b[1;32m   6116\u001b[0m \u001b[38;5;28;01mif\u001b[39;00m \u001b[38;5;28misinstance\u001b[39m(key, Index):\n\u001b[1;32m   6117\u001b[0m     \u001b[38;5;66;03m# GH 42790 - Preserve name from an Index\u001b[39;00m\n",
      "File \u001b[0;32m~/.conda/envs/tf/lib/python3.9/site-packages/pandas/core/indexes/base.py:6176\u001b[0m, in \u001b[0;36mIndex._raise_if_missing\u001b[0;34m(self, key, indexer, axis_name)\u001b[0m\n\u001b[1;32m   6173\u001b[0m     \u001b[38;5;28;01mraise\u001b[39;00m \u001b[38;5;167;01mKeyError\u001b[39;00m(\u001b[38;5;124mf\u001b[39m\u001b[38;5;124m\"\u001b[39m\u001b[38;5;124mNone of [\u001b[39m\u001b[38;5;132;01m{\u001b[39;00mkey\u001b[38;5;132;01m}\u001b[39;00m\u001b[38;5;124m] are in the [\u001b[39m\u001b[38;5;132;01m{\u001b[39;00maxis_name\u001b[38;5;132;01m}\u001b[39;00m\u001b[38;5;124m]\u001b[39m\u001b[38;5;124m\"\u001b[39m)\n\u001b[1;32m   6175\u001b[0m not_found \u001b[38;5;241m=\u001b[39m \u001b[38;5;28mlist\u001b[39m(ensure_index(key)[missing_mask\u001b[38;5;241m.\u001b[39mnonzero()[\u001b[38;5;241m0\u001b[39m]]\u001b[38;5;241m.\u001b[39munique())\n\u001b[0;32m-> 6176\u001b[0m \u001b[38;5;28;01mraise\u001b[39;00m \u001b[38;5;167;01mKeyError\u001b[39;00m(\u001b[38;5;124mf\u001b[39m\u001b[38;5;124m\"\u001b[39m\u001b[38;5;132;01m{\u001b[39;00mnot_found\u001b[38;5;132;01m}\u001b[39;00m\u001b[38;5;124m not in index\u001b[39m\u001b[38;5;124m\"\u001b[39m)\n",
      "\u001b[0;31mKeyError\u001b[0m: \"['Pupil X', 'Pupil Y'] not in index\""
     ]
    }
   ],
   "source": [
    "#abnormal shape: (251, 7) and (0, 7)\n",
    "X_final, Y_final = Generate_X_Y_sample(TASK_TYPE, 0, 53, 10, 3, behavior_df, eye_df_scaled)"
   ]
  },
  {
   "cell_type": "code",
   "execution_count": 22,
   "id": "0b652490",
   "metadata": {},
   "outputs": [
    {
     "name": "stdout",
     "output_type": "stream",
     "text": [
      "(0,)\n"
     ]
    },
    {
     "ename": "IndexError",
     "evalue": "index 0 is out of bounds for axis 0 with size 0",
     "output_type": "error",
     "traceback": [
      "\u001b[0;31m---------------------------------------------------------------------------\u001b[0m",
      "\u001b[0;31mIndexError\u001b[0m                                Traceback (most recent call last)",
      "Cell \u001b[0;32mIn[22], line 2\u001b[0m\n\u001b[1;32m      1\u001b[0m \u001b[38;5;28mprint\u001b[39m(X_final\u001b[38;5;241m.\u001b[39mshape)\n\u001b[0;32m----> 2\u001b[0m \u001b[43mX_final\u001b[49m\u001b[43m[\u001b[49m\u001b[38;5;241;43m0\u001b[39;49m\u001b[43m]\u001b[49m\n",
      "\u001b[0;31mIndexError\u001b[0m: index 0 is out of bounds for axis 0 with size 0"
     ]
    }
   ],
   "source": [
    "print(X_final.shape)\n",
    "X_final[0]"
   ]
  },
  {
   "cell_type": "code",
   "execution_count": 23,
   "id": "1953f6b3",
   "metadata": {},
   "outputs": [
    {
     "name": "stdout",
     "output_type": "stream",
     "text": [
      "(0,)\n"
     ]
    },
    {
     "data": {
      "text/plain": [
       "array([], dtype=float64)"
      ]
     },
     "execution_count": 23,
     "metadata": {},
     "output_type": "execute_result"
    }
   ],
   "source": [
    "print(Y_final.shape)\n",
    "Y_final[:5]"
   ]
  },
  {
   "cell_type": "code",
   "execution_count": 50,
   "id": "03916213",
   "metadata": {},
   "outputs": [
    {
     "data": {
      "application/vnd.jupyter.widget-view+json": {
       "model_id": "29d95e862ddb4dc7ad7792cb9f38bf62",
       "version_major": 2,
       "version_minor": 0
      },
      "text/plain": [
       "Task_type:   0%|          | 0/4 [00:00<?, ?it/s]"
      ]
     },
     "metadata": {},
     "output_type": "display_data"
    },
    {
     "data": {
      "application/vnd.jupyter.widget-view+json": {
       "model_id": "f05a272a5f894c63b43ca62948ff99cf",
       "version_major": 2,
       "version_minor": 0
      },
      "text/plain": [
       "  0%|          | 0/3 [00:00<?, ?it/s]"
      ]
     },
     "metadata": {},
     "output_type": "display_data"
    }
   ],
   "source": [
    "X_test, Y_test = Generate_X_Y_sample(TASK_TYPE, 53, 58, 10, 3, behavior_df, eye_df_scaled)"
   ]
  },
  {
   "cell_type": "code",
   "execution_count": 51,
   "id": "1a70f711",
   "metadata": {},
   "outputs": [
    {
     "name": "stdout",
     "output_type": "stream",
     "text": [
      "(1712, 250)\n"
     ]
    },
    {
     "data": {
      "text/plain": [
       "array([[0.19998531, 0.19847536, 0.19697063, ..., 0.63359499, 0.63727194,\n",
       "        0.64104081],\n",
       "       [0.64490003, 0.64884492, 0.65287128, ..., 0.97220208, 0.97605922,\n",
       "        0.9799033 ],\n",
       "       [0.16523869, 0.16394445, 0.16257447, ..., 0.45081523, 0.45637817,\n",
       "        0.46196672],\n",
       "       ...,\n",
       "       [0.68376703, 0.68625158, 0.6887659 , ..., 0.34456557, 0.34473688,\n",
       "        0.34492804],\n",
       "       [2.41241455, 2.40858509, 2.40499954, ..., 2.08343071, 2.08396868,\n",
       "        2.08349705],\n",
       "       [2.08212811, 2.08043066, 2.07888989, ..., 2.07458358, 2.07334157,\n",
       "        2.07210896]])"
      ]
     },
     "execution_count": 51,
     "metadata": {},
     "output_type": "execute_result"
    }
   ],
   "source": [
    "print(X_test.shape)\n",
    "X_test"
   ]
  },
  {
   "cell_type": "code",
   "execution_count": 52,
   "id": "c715cecd",
   "metadata": {},
   "outputs": [
    {
     "name": "stdout",
     "output_type": "stream",
     "text": [
      "(1712, 1)\n"
     ]
    },
    {
     "data": {
      "text/plain": [
       "array([[1],\n",
       "       [0],\n",
       "       [1],\n",
       "       [0],\n",
       "       [1]])"
      ]
     },
     "execution_count": 52,
     "metadata": {},
     "output_type": "execute_result"
    }
   ],
   "source": [
    "print(Y_test.shape)\n",
    "Y_test[:5]"
   ]
  },
  {
   "cell_type": "markdown",
   "id": "8776960c",
   "metadata": {},
   "source": [
    "## Split"
   ]
  },
  {
   "cell_type": "code",
   "execution_count": 53,
   "id": "0065ce73",
   "metadata": {},
   "outputs": [],
   "source": [
    "X_train,X_val,Y_train,Y_val = train_test_split(X_final,Y_final,test_size=0.2, random_state=96, shuffle=True)"
   ]
  },
  {
   "cell_type": "code",
   "execution_count": 54,
   "id": "8d6f226a",
   "metadata": {},
   "outputs": [],
   "source": [
    "# X_train = X_train.reshape((X_train.shape[0],X_train.shape[1],X_train.shape[2],1))\n",
    "# X_val = X_val.reshape((X_val.shape[0],X_val.shape[1],X_val.shape[2],1))\n",
    "# X_test = X_test.reshape((X_test.shape[0],X_test.shape[1],X_test.shape[2],1))"
   ]
  },
  {
   "cell_type": "code",
   "execution_count": 55,
   "id": "16424531",
   "metadata": {},
   "outputs": [
    {
     "name": "stdout",
     "output_type": "stream",
     "text": [
      "(1369, 250)\n",
      "(343, 250)\n",
      "(1712, 250)\n",
      "(1369, 1)\n",
      "(343, 1)\n",
      "(1712, 1)\n"
     ]
    }
   ],
   "source": [
    "print(X_train.shape)\n",
    "print(X_val.shape)\n",
    "print(X_test.shape)\n",
    "print(Y_train.shape)\n",
    "print(Y_val.shape)\n",
    "print(Y_test.shape)"
   ]
  },
  {
   "cell_type": "code",
   "execution_count": null,
   "id": "8117da33",
   "metadata": {},
   "outputs": [],
   "source": []
  },
  {
   "cell_type": "code",
   "execution_count": 56,
   "id": "ec206127",
   "metadata": {},
   "outputs": [
    {
     "name": "stdout",
     "output_type": "stream",
     "text": [
      "Training set:\n",
      "Number of positive element: 545\n",
      "The ratio: 0.3981008035062089\n",
      "\n",
      "Validation set:\n",
      "Number of positive element: 126\n",
      "The ratio: 0.3673469387755102\n",
      "\n",
      "Testing set:\n",
      "Number of positive element: 671\n",
      "The ratio: 0.3919392523364486\n",
      "\n",
      "\n"
     ]
    }
   ],
   "source": [
    "output = []\n",
    "\n",
    "#statistic\n",
    "output.append(\"Training set:\")\n",
    "output.append(\"Number of positive element: \" +  str(np.count_nonzero(Y_train)))\n",
    "output.append(\"The ratio: \" + str(np.count_nonzero(Y_train)/Y_train.shape[0]))\n",
    "\n",
    "output.append(\"\\nValidation set:\")\n",
    "output.append(\"Number of positive element: \" + str(np.count_nonzero(Y_val)))\n",
    "output.append(\"The ratio: \" + str(np.count_nonzero(Y_val)/Y_val.shape[0]))\n",
    "\n",
    "output.append(\"\\nTesting set:\")\n",
    "output.append(\"Number of positive element: \" + str(np.count_nonzero(Y_test)))\n",
    "output.append(\"The ratio: \" + str(np.count_nonzero(Y_test)/Y_test.shape[0]))\n",
    "output.append(\"\\n\")\n",
    "\n",
    "\n",
    "for string in output:\n",
    "    print(string)\n"
   ]
  },
  {
   "cell_type": "markdown",
   "id": "9b1b7610",
   "metadata": {},
   "source": [
    "# CNN model"
   ]
  },
  {
   "cell_type": "code",
   "execution_count": 57,
   "id": "e0c2dbff",
   "metadata": {},
   "outputs": [],
   "source": [
    "#hyper parameter\n",
    "PATIENCE=10\n",
    "KERNEL_SIZE =  (3,3)\n",
    "STRIDES_SIZE = (1,1)\n",
    "MAX_POOL =  (2,1)\n",
    "DROPOUT = 0.3\n",
    "EPOCHS = 100\n",
    "BATCH_SIZE = 128"
   ]
  },
  {
   "cell_type": "code",
   "execution_count": 58,
   "id": "0f7d288a",
   "metadata": {},
   "outputs": [],
   "source": [
    "# #Custom Layers\n",
    "# class My_Ave_Layer(tf.keras.layers.Layer):\n",
    "#     def __init__(self,dims):\n",
    "#         super(My_Ave_Layer, self).__init__()\n",
    "#         self.units = 1\n",
    "#         self.dims = dims\n",
    "# #     def build(self, input_shape):\n",
    "# #         self.kernel = self.add_weight(\"kernel\",\n",
    "# #                                   shape=[int(input_shape[-1]),\n",
    "# #                                          self.num_outputs])\n",
    "\n",
    "#     def compute_output_shape(self, input_shape):\n",
    "#         input_shape = tf.TensorShape(input_shape)\n",
    "#         input_shape = input_shape.with_rank_at_least(2)\n",
    "#         return input_shape[:-1].concatenate(self.units)\n",
    "    \n",
    "    \n",
    "#     def call(self, inputs):\n",
    "#         input_no_grad = tf.stop_gradient(inputs)\n",
    "#         compute_dim = tuple(range(1,self.dims))\n",
    "#         #compute_dim = tuple(range(1,3))\n",
    "#         ave = tf.math.reduce_sum(inputs,axis=compute_dim)/tf.cast(tf.reduce_prod(input_no_grad.get_shape()[1:]), dtype=tf.float32)\n",
    "#         return tf.reshape(ave,shape=(-1,1))\n",
    "    \n",
    "\n",
    "    \n",
    "    \n",
    "\n",
    "    \n",
    "# #testing\n",
    "\n",
    "# sample = tf.constant([[[0,1,2,3],[0,1,2,3],[0,1,2,3]],[[10,10,10,10],[10,10,10,10],[10,10,10,10]]],shape=(2,3,4), dtype=tf.float32)\n",
    "# inp = tf.keras.Input(shape=(3,4))\n",
    "# out = My_Ave_Layer(3)(inp)\n",
    "# model = tf.keras.Model(inp, out)\n",
    "\n",
    "# output = model.predict(sample)\n",
    "# output"
   ]
  },
  {
   "cell_type": "raw",
   "id": "2ec404f3",
   "metadata": {},
   "source": []
  },
  {
   "cell_type": "code",
   "execution_count": 59,
   "id": "a1b30c6b",
   "metadata": {},
   "outputs": [],
   "source": [
    "# Custom Callback\n",
    "\n",
    "\n",
    "N = 0\n",
    "#current_lr = 0.00002\n",
    "class print_learning_rate(tf.keras.callbacks.Callback):\n",
    "    def on_epoch_end(self, epoch, logs={}):\n",
    "        optimizer = self.model.optimizer\n",
    "        #lr = tf.keras.backend.eval(optimizer.lr * (1. / (1. + optimizer.decay * optimizer.iterations)))\n",
    "        #print('\\nLearning Rate: {:.6f}\\n'.format(lr))\n",
    "        lr = float(tf.keras.backend.get_value(optimizer.lr))\n",
    "        decay = float(tf.keras.backend.get_value(optimizer.decay))\n",
    "        iterations = float(tf.keras.backend.get_value(optimizer.iterations))\n",
    "        print('\\nLearning Rate: {:.10f}. Decay: {:.10f}. Iteration: {:.10f}\\n'.format(lr,decay,iterations))\n",
    "        \n",
    "class adjust_learning_rate(tf.keras.callbacks.Callback):   \n",
    "    def on_epoch_begin(self, epoch, logs={}):\n",
    "        #first element is epochs, second is new lr\n",
    "        LR_Table = [\n",
    "        #(0,current_lr),\n",
    "        (25 - N, 0.0003),\n",
    "        (50 - N, 0.0001),\n",
    "        (75 - N, 0.00003),\n",
    "        (100 - N, 0.00002),\n",
    "        (125 - N, 0.00001),]\n",
    "\n",
    "        if epoch >= LR_Table[0][0] and epoch <= LR_Table[-1][0]:\n",
    "            for i in range(len(LR_Table)):\n",
    "                if epoch == LR_Table[i][0]:\n",
    "                    newlr = LR_Table[i][1]\n",
    "                    tf.keras.backend.set_value(self.model.optimizer.lr, newlr)\n",
    "                    lr = float(tf.keras.backend.get_value(self.model.optimizer.lr))\n",
    "                    print(\"\\nEpoch {}: The New learning rate is {:.6f}.\".format(epoch, lr))\n",
    "                    \n",
    "\n",
    "def checkpoint_save_weights():\n",
    "    return tf.keras.callbacks.ModelCheckpoint(OUTPUT_DIR+'model_save/', save_weights_only=True, verbose = 1,save_freq='epoch')\n",
    "\n",
    "\n",
    "cb_print_learning_rate = print_learning_rate()\n",
    "cb_adjust_learning_rate = adjust_learning_rate()   \n",
    "reduce_LR_On_Plateau = tf.keras.callbacks.ReduceLROnPlateau(monitor='val_loss',factor=0.5,patience=PATIENCE//2,verbose=1, min_delta=0.0001,)\n",
    "early_stopping = tf.keras.callbacks.EarlyStopping(monitor=\"val_loss\", patience=PATIENCE, restore_best_weights = True)"
   ]
  },
  {
   "cell_type": "code",
   "execution_count": 64,
   "id": "859700d9",
   "metadata": {},
   "outputs": [],
   "source": [
    "#create model\n",
    "def create_2D_CNN_model(shape, kernel_size, strides_size, max_pool_size, dropout=0.3):\n",
    "    \n",
    "    input_layer = tf.keras.Input((shape[1], shape[2], shape[3]))\n",
    "    \n",
    "    conv_1 = tf.keras.layers.Conv2D(64, kernel_size, strides=strides_size,  padding='same', activation='relu',)(input_layer)\n",
    "    conv_1 = tf.keras.layers.MaxPool2D(max_pool_size,  padding='same')(conv_1)\n",
    "    conv_1 = tf.keras.layers.Dropout(dropout)(conv_1)\n",
    "    \n",
    "    conv_2 = tf.keras.layers.Conv2D(128, kernel_size, strides=strides_size, padding='same', activation='relu',)(conv_1)\n",
    "    conv_2 = tf.keras.layers.MaxPool2D(max_pool_size,  padding='same')(conv_2)\n",
    "    conv_2 = tf.keras.layers.Dropout(dropout)(conv_2)    \n",
    "    \n",
    "    conv_3 = tf.keras.layers.Conv2D(256, kernel_size, strides=strides_size, padding='same', activation='relu',)(conv_2)\n",
    "    conv_3 = tf.keras.layers.MaxPool2D(max_pool_size,  padding='same')(conv_3)\n",
    "    conv_3 = tf.keras.layers.Dropout(dropout)(conv_3)     \n",
    "    \n",
    "    dense_1 = tf.keras.layers.Flatten()(conv_3)\n",
    "    dense_1 = tf.keras.layers.Dense(32)(dense_1)\n",
    "    \n",
    "    output_layer = tf.keras.layers.Dense(1,activation='sigmoid')(dense_1)\n",
    "    \n",
    "    model = tf.keras.Model(input_layer, output_layer)\n",
    "    model.compile(optimizer = 'adam',loss = 'binary_crossentropy',metrics = ['accuracy'])\n",
    "    return model\n",
    "\n",
    "def create_1D_CNN_model(shape, kernel_size=9, strides_size=1, max_pool_size=3, dropout=0.3):\n",
    "    \n",
    "    input_layer = tf.keras.Input((shape[1], shape[2]))\n",
    "    \n",
    "    conv_1 = tf.keras.layers.Conv1D(64, kernel_size, strides=strides_size,  padding='same', activation='relu',)(input_layer)\n",
    "    conv_1 = tf.keras.layers.MaxPool1D(max_pool_size,  padding='same')(conv_1)\n",
    "    conv_1 = tf.keras.layers.Dropout(dropout)(conv_1)\n",
    "    \n",
    "    conv_2 = tf.keras.layers.Conv1D(128, kernel_size, strides=strides_size, padding='same', activation='relu',)(conv_1)\n",
    "    conv_2 = tf.keras.layers.MaxPool1D(max_pool_size,  padding='same')(conv_2)\n",
    "    conv_2 = tf.keras.layers.Dropout(dropout)(conv_2)    \n",
    "    \n",
    "    conv_3 = tf.keras.layers.Conv1D(256, kernel_size, strides=strides_size, padding='same', activation='relu',)(conv_2)\n",
    "    conv_3 = tf.keras.layers.MaxPool1D(max_pool_size,  padding='same')(conv_3)\n",
    "    conv_3 = tf.keras.layers.Dropout(dropout)(conv_3)     \n",
    "    \n",
    "    dense_1 = tf.keras.layers.Flatten()(conv_3)\n",
    "    dense_1 = tf.keras.layers.Dense(32)(dense_1)\n",
    "    \n",
    "    output_layer = tf.keras.layers.Dense(1,activation='sigmoid')(dense_1)\n",
    "    \n",
    "    model = tf.keras.Model(input_layer, output_layer)\n",
    "    model.compile(optimizer = 'adam',loss = 'binary_crossentropy',metrics = ['accuracy'])\n",
    "    return model\n",
    "\n",
    "def create_1D_u_net(SHAPE,start_neuron = 9, KERNEL_SIZE = 5, dropout=0.3):\n",
    "        input_layer = tf.keras.Input((SHAPE[1], SHAPE[2]))\n",
    "        \n",
    "        conv1 = tf.keras.layers.Conv1D(start_neuron * 1, kernel_size=KERNEL_SIZE,padding='same')(input_layer)\n",
    "        conv1 = tf.keras.layers.Dropout(dropout)(conv1)\n",
    "        conv1 = tf.keras.layers.BatchNormalization()(conv1)\n",
    "        conv1 = tf.keras.layers.Activation('relu')(conv1)\n",
    "        conv1 = tf.keras.layers.Conv1D(start_neuron * 1, kernel_size=KERNEL_SIZE,padding='same')(conv1)\n",
    "        conv1 = tf.keras.layers.Dropout(dropout)(conv1)\n",
    "        conv1 = tf.keras.layers.BatchNormalization()(conv1)\n",
    "        conv1 = tf.keras.layers.Activation('relu')(conv1)\n",
    "        pool1 = tf.keras.layers.MaxPool1D(2)(conv1)\n",
    "        \n",
    "        conv2 = tf.keras.layers.Conv1D(start_neuron * 2, kernel_size=KERNEL_SIZE,padding='same')(pool1)\n",
    "        conv2 = tf.keras.layers.Dropout(dropout)(conv2)\n",
    "        conv2 = tf.keras.layers.BatchNormalization()(conv2)\n",
    "        conv2 = tf.keras.layers.Activation('relu')(conv2)\n",
    "        conv2 = tf.keras.layers.Conv1D(start_neuron * 2, kernel_size=KERNEL_SIZE,padding='same')(conv2)\n",
    "        conv2 = tf.keras.layers.Dropout(dropout)(conv2)\n",
    "        conv2 = tf.keras.layers.BatchNormalization()(conv2)\n",
    "        conv2 = tf.keras.layers.Activation('relu')(conv2)\n",
    "        pool2 = tf.keras.layers.MaxPool1D(5)(conv2)\n",
    "        \n",
    "        conv3 = tf.keras.layers.Conv1D(start_neuron * 4, kernel_size=KERNEL_SIZE,padding='same')(pool2)\n",
    "        conv3 = tf.keras.layers.Dropout(dropout)(conv3)\n",
    "        conv3 = tf.keras.layers.BatchNormalization()(conv3)\n",
    "        conv3 = tf.keras.layers.Activation('relu')(conv3)\n",
    "        conv3 = tf.keras.layers.Conv1D(start_neuron * 4, kernel_size=KERNEL_SIZE,padding='same')(conv3)\n",
    "        conv3 = tf.keras.layers.Dropout(dropout)(conv3)\n",
    "        conv3 = tf.keras.layers.BatchNormalization()(conv3)\n",
    "        conv3 = tf.keras.layers.Activation('relu')(conv3)\n",
    "        pool3 = tf.keras.layers.MaxPool1D(5)(conv3)\n",
    "        \n",
    "        convm = tf.keras.layers.Conv1D(start_neuron * 8, kernel_size=KERNEL_SIZE,padding='same')(pool3)\n",
    "        convm = tf.keras.layers.Dropout(dropout)(convm)\n",
    "        convm = tf.keras.layers.BatchNormalization()(convm)\n",
    "        convm = tf.keras.layers.Activation('relu')(convm)\n",
    "        convm = tf.keras.layers.Conv1D(start_neuron * 8, kernel_size=KERNEL_SIZE,padding='same')(convm)\n",
    "        convm = tf.keras.layers.Dropout(dropout)(convm)\n",
    "        convm = tf.keras.layers.BatchNormalization()(convm)\n",
    "        convm = tf.keras.layers.Activation('relu')(convm)\n",
    "        \n",
    "        deconv3 = tf.keras.layers.Conv1DTranspose(start_neuron * 4, kernel_size=KERNEL_SIZE,strides=5,padding='same')(convm)\n",
    "        deconv3 = tf.keras.layers.concatenate([deconv3,conv3])\n",
    "        \n",
    "        unconv3 = tf.keras.layers.Conv1D(start_neuron * 4, kernel_size=KERNEL_SIZE,padding='same')(deconv3)\n",
    "        unconv3 = tf.keras.layers.Dropout(dropout)(unconv3)\n",
    "        unconv3 = tf.keras.layers.BatchNormalization()(unconv3)\n",
    "        unconv3 = tf.keras.layers.Activation('relu')(unconv3)\n",
    "        unconv3 = tf.keras.layers.Conv1D(start_neuron * 4, kernel_size=KERNEL_SIZE,padding='same')(unconv3)\n",
    "        unconv3 = tf.keras.layers.Dropout(dropout)(unconv3)\n",
    "        unconv3 = tf.keras.layers.BatchNormalization()(unconv3)\n",
    "        unconv3 = tf.keras.layers.Activation('relu')(unconv3)\n",
    "\n",
    "        deconv2 = tf.keras.layers.Conv1DTranspose(start_neuron * 2, kernel_size=KERNEL_SIZE,strides=5,padding='same')(unconv3)\n",
    "        deconv2 = tf.keras.layers.concatenate([deconv2,conv2])\n",
    "        \n",
    "        unconv2 = tf.keras.layers.Conv1D(start_neuron * 2, kernel_size=KERNEL_SIZE,padding='same')(deconv2)\n",
    "        unconv2 = tf.keras.layers.Dropout(dropout)(unconv2)\n",
    "        unconv2 = tf.keras.layers.BatchNormalization()(unconv2)\n",
    "        unconv2 = tf.keras.layers.Activation('relu')(unconv2)\n",
    "        unconv2 = tf.keras.layers.Conv1D(start_neuron * 2, kernel_size=KERNEL_SIZE,padding='same')(unconv2)\n",
    "        unconv2 = tf.keras.layers.Dropout(dropout)(unconv2)\n",
    "        unconv2 = tf.keras.layers.BatchNormalization()(unconv2)\n",
    "        unconv2 = tf.keras.layers.Activation('relu')(unconv2)    \n",
    "        \n",
    "        deconv1 = tf.keras.layers.Conv1DTranspose(start_neuron * 1, kernel_size=KERNEL_SIZE,strides=2,padding='same')(unconv2)\n",
    "        deconv1 = tf.keras.layers.concatenate([deconv1,conv1])\n",
    "        \n",
    "        unconv1 = tf.keras.layers.Conv1D(start_neuron * 1, kernel_size=KERNEL_SIZE,padding='same')(deconv1)\n",
    "        unconv1 = tf.keras.layers.Dropout(dropout)(unconv1)\n",
    "        unconv1 = tf.keras.layers.BatchNormalization()(unconv1)\n",
    "        unconv1 = tf.keras.layers.Activation('relu')(unconv1)  \n",
    "        unconv1 = tf.keras.layers.Conv1D(start_neuron * 1, kernel_size=KERNEL_SIZE,padding='same')(unconv1)\n",
    "        unconv1 = tf.keras.layers.Dropout(dropout)(unconv1)\n",
    "        unconv1 = tf.keras.layers.BatchNormalization()(unconv1)\n",
    "        unconv1 = tf.keras.layers.Activation('relu')(unconv1)        \n",
    "        \n",
    "        output_layer = tf.keras.layers.Conv1D(1, kernel_size=1, padding='same',activation='relu')(unconv1) \n",
    "        output_layer = tf.keras.layers.Flatten()(output_layer)\n",
    "        output_layer = tf.keras.layers.Dense(1,activation='sigmoid')(output_layer)\n",
    "        \n",
    "        model = tf.keras.Model(input_layer, output_layer)\n",
    "        model.compile(optimizer = 'adam',loss = 'binary_crossentropy',metrics = ['accuracy'])\n",
    "        return model\n",
    "\n",
    "    \n",
    "    \n",
    "    \n",
    "def inception_layer(input_layer, filters_1x1, filters_3x3_reduce, filters_3x3, \n",
    "                    filters_5x5_reduce, filters_5x5, filters_pool):\n",
    "\n",
    "    conv_1x1 = tf.keras.layers.Conv1D(filters_1x1, kernel_size=1, padding='same', activation='relu')(input_layer)\n",
    "    \n",
    "    conv_3x3 = tf.keras.layers.Conv1D(filters_3x3_reduce, kernel_size=1, padding='same', activation='relu')(input_layer)\n",
    "    conv_3x3 = tf.keras.layers.Conv1D(filters_3x3, kernel_size=3, padding='same', activation='relu')(conv_3x3)\n",
    "    \n",
    "    conv_5x5 = tf.keras.layers.Conv1D(filters_5x5_reduce, kernel_size=1, padding='same', activation='relu')(input_layer)\n",
    "    conv_5x5 = tf.keras.layers.Conv1D(filters_5x5, kernel_size=5, padding='same', activation='relu')(conv_5x5)\n",
    "    \n",
    "    pool = tf.keras.layers.MaxPool1D(3,strides=1,padding='same')(input_layer)\n",
    "    pool = tf.keras.layers.Conv1D(filters_pool, kernel_size=1, padding='same', activation='relu')(pool)\n",
    "    \n",
    "    output = tf.keras.layers.concatenate([conv_1x1, conv_3x3, conv_5x5, pool])\n",
    "    return output\n",
    "    \n",
    "def create_1d_inception_(SHAPE, dropout=0.3):\n",
    "    input_layer = tf.keras.Input((SHAPE[1], SHAPE[2]))\n",
    "\n",
    "    incep_1 = inception_layer(input_layer, filters_1x1 = 6,\n",
    "                              filters_3x3_reduce = 6, filters_3x3 = 12,\n",
    "                              filters_5x5_reduce = 3, filters_5x5 = 3,\n",
    "                              filters_pool = 3,\n",
    "                             )\n",
    "    \n",
    "    incep_2 = tf.keras.layers.MaxPool1D(2)(incep_1)\n",
    "    incep_2 = inception_layer(incep_2,filters_1x1 = 12,\n",
    "                              filters_3x3_reduce = 12, filters_3x3 = 24,\n",
    "                              filters_5x5_reduce = 3, filters_5x5 = 6,\n",
    "                              filters_pool = 6,\n",
    "                             )\n",
    "    \n",
    "    incep_3 = tf.keras.layers.MaxPool1D(2)(incep_2)\n",
    "    residual_3 = tf.keras.layers.MaxPool1D(4)(input_layer)\n",
    "    residual_3 = tf.keras.layers.concatenate([incep_3, residual_3],name='residual_3')\n",
    "    incep_3 = inception_layer(residual_3,filters_1x1 = 24,\n",
    "                              filters_3x3_reduce = 24, filters_3x3 = 48,\n",
    "                              filters_5x5_reduce = 6, filters_5x5 = 12,\n",
    "                              filters_pool = 12,\n",
    "                             )\n",
    "    \n",
    "    incep_4 = tf.keras.layers.MaxPool1D(2)(incep_3)\n",
    "    incep_4 = inception_layer(incep_4,filters_1x1 = 48,\n",
    "                              filters_3x3_reduce = 48, filters_3x3 = 96,\n",
    "                              filters_5x5_reduce = 12, filters_5x5 = 24,\n",
    "                              filters_pool = 24,\n",
    "                             )\n",
    "    \n",
    "    incep_5 = tf.keras.layers.MaxPool1D(2)(incep_4)\n",
    "    incep_5 = inception_layer(incep_5,filters_1x1 = 96,\n",
    "                              filters_3x3_reduce = 96, filters_3x3 = 192,\n",
    "                              filters_5x5_reduce = 24, filters_5x5 = 48,\n",
    "                              filters_pool = 48,\n",
    "                             )\n",
    "    \n",
    "    incep_6 = tf.keras.layers.MaxPool1D(2)(incep_5)\n",
    "    residual_6 = tf.keras.layers.MaxPool1D(8)(incep_3)\n",
    "    residual_6 = tf.keras.layers.concatenate([incep_6, residual_6],name='residual_6')\n",
    "    incep_6 = inception_layer(residual_6,filters_1x1 = 192,\n",
    "                              filters_3x3_reduce = 192, filters_3x3 = 384,\n",
    "                              filters_5x5_reduce = 48, filters_5x5 = 96,\n",
    "                              filters_pool = 96,\n",
    "                             )\n",
    "    \n",
    "    output_layer = tf.keras.layers.AveragePooling1D(7)(incep_6)\n",
    "    output_layer = tf.keras.layers.Flatten()(output_layer)\n",
    "    output_layer = tf.keras.layers.Dense(48,activation='relu')(output_layer)\n",
    "    output_layer = tf.keras.layers.Dense(1,activation='sigmoid')(output_layer)\n",
    "\n",
    "    model = tf.keras.Model(input_layer, output_layer)\n",
    "    model.compile(optimizer = 'adam',loss = 'binary_crossentropy',metrics = ['accuracy'])\n",
    "    return model"
   ]
  },
  {
   "cell_type": "code",
   "execution_count": 65,
   "id": "442a43b2",
   "metadata": {
    "scrolled": true
   },
   "outputs": [
    {
     "ename": "ValueError",
     "evalue": "Input 0 of layer conv1d is incompatible with the layer: : expected min_ndim=3, found ndim=2. Full shape received: (None, 250)",
     "output_type": "error",
     "traceback": [
      "\u001b[0;31m---------------------------------------------------------------------------\u001b[0m",
      "\u001b[0;31mValueError\u001b[0m                                Traceback (most recent call last)",
      "Cell \u001b[0;32mIn[65], line 1\u001b[0m\n\u001b[0;32m----> 1\u001b[0m model \u001b[38;5;241m=\u001b[39m \u001b[43mcreate_1D_CNN_model\u001b[49m\u001b[43m(\u001b[49m\u001b[43mX_train\u001b[49m\u001b[38;5;241;43m.\u001b[39;49m\u001b[43mshape\u001b[49m\u001b[43m,\u001b[49m\u001b[43m \u001b[49m\u001b[43mdropout\u001b[49m\u001b[38;5;241;43m=\u001b[39;49m\u001b[43mDROPOUT\u001b[49m\u001b[43m)\u001b[49m\n\u001b[1;32m      3\u001b[0m model\u001b[38;5;241m.\u001b[39msummary()\n\u001b[1;32m      5\u001b[0m history \u001b[38;5;241m=\u001b[39m model\u001b[38;5;241m.\u001b[39mfit(X_train, Y_train, epochs\u001b[38;5;241m=\u001b[39mEPOCHS, batch_size\u001b[38;5;241m=\u001b[39mBATCH_SIZE, validation_data\u001b[38;5;241m=\u001b[39m(X_val, Y_val), verbose\u001b[38;5;241m=\u001b[39m\u001b[38;5;241m1\u001b[39m, shuffle\u001b[38;5;241m=\u001b[39m\u001b[38;5;28;01mFalse\u001b[39;00m, callbacks\u001b[38;5;241m=\u001b[39m[early_stopping,reduce_LR_On_Plateau,])\n",
      "Cell \u001b[0;32mIn[64], line 31\u001b[0m, in \u001b[0;36mcreate_1D_CNN_model\u001b[0;34m(shape, kernel_size, strides_size, max_pool_size, dropout)\u001b[0m\n\u001b[1;32m     27\u001b[0m \u001b[38;5;28;01mdef\u001b[39;00m \u001b[38;5;21mcreate_1D_CNN_model\u001b[39m(shape, kernel_size\u001b[38;5;241m=\u001b[39m\u001b[38;5;241m9\u001b[39m, strides_size\u001b[38;5;241m=\u001b[39m\u001b[38;5;241m1\u001b[39m, max_pool_size\u001b[38;5;241m=\u001b[39m\u001b[38;5;241m3\u001b[39m, dropout\u001b[38;5;241m=\u001b[39m\u001b[38;5;241m0.3\u001b[39m):\n\u001b[1;32m     29\u001b[0m     input_layer \u001b[38;5;241m=\u001b[39m tf\u001b[38;5;241m.\u001b[39mkeras\u001b[38;5;241m.\u001b[39mInput((shape[\u001b[38;5;241m1\u001b[39m]))\n\u001b[0;32m---> 31\u001b[0m     conv_1 \u001b[38;5;241m=\u001b[39m \u001b[43mtf\u001b[49m\u001b[38;5;241;43m.\u001b[39;49m\u001b[43mkeras\u001b[49m\u001b[38;5;241;43m.\u001b[39;49m\u001b[43mlayers\u001b[49m\u001b[38;5;241;43m.\u001b[39;49m\u001b[43mConv1D\u001b[49m\u001b[43m(\u001b[49m\u001b[38;5;241;43m64\u001b[39;49m\u001b[43m,\u001b[49m\u001b[43m \u001b[49m\u001b[43mkernel_size\u001b[49m\u001b[43m,\u001b[49m\u001b[43m \u001b[49m\u001b[43mstrides\u001b[49m\u001b[38;5;241;43m=\u001b[39;49m\u001b[43mstrides_size\u001b[49m\u001b[43m,\u001b[49m\u001b[43m  \u001b[49m\u001b[43mpadding\u001b[49m\u001b[38;5;241;43m=\u001b[39;49m\u001b[38;5;124;43m'\u001b[39;49m\u001b[38;5;124;43msame\u001b[39;49m\u001b[38;5;124;43m'\u001b[39;49m\u001b[43m,\u001b[49m\u001b[43m \u001b[49m\u001b[43mactivation\u001b[49m\u001b[38;5;241;43m=\u001b[39;49m\u001b[38;5;124;43m'\u001b[39;49m\u001b[38;5;124;43mrelu\u001b[39;49m\u001b[38;5;124;43m'\u001b[39;49m\u001b[43m,\u001b[49m\u001b[43m)\u001b[49m\u001b[43m(\u001b[49m\u001b[43minput_layer\u001b[49m\u001b[43m)\u001b[49m\n\u001b[1;32m     32\u001b[0m     conv_1 \u001b[38;5;241m=\u001b[39m tf\u001b[38;5;241m.\u001b[39mkeras\u001b[38;5;241m.\u001b[39mlayers\u001b[38;5;241m.\u001b[39mMaxPool1D(max_pool_size,  padding\u001b[38;5;241m=\u001b[39m\u001b[38;5;124m'\u001b[39m\u001b[38;5;124msame\u001b[39m\u001b[38;5;124m'\u001b[39m)(conv_1)\n\u001b[1;32m     33\u001b[0m     conv_1 \u001b[38;5;241m=\u001b[39m tf\u001b[38;5;241m.\u001b[39mkeras\u001b[38;5;241m.\u001b[39mlayers\u001b[38;5;241m.\u001b[39mDropout(dropout)(conv_1)\n",
      "File \u001b[0;32m~/.conda/envs/tf/lib/python3.9/site-packages/tensorflow/python/keras/engine/base_layer.py:951\u001b[0m, in \u001b[0;36mLayer.__call__\u001b[0;34m(self, *args, **kwargs)\u001b[0m\n\u001b[1;32m    945\u001b[0m \u001b[38;5;66;03m# Functional Model construction mode is invoked when `Layer`s are called on\u001b[39;00m\n\u001b[1;32m    946\u001b[0m \u001b[38;5;66;03m# symbolic `KerasTensor`s, i.e.:\u001b[39;00m\n\u001b[1;32m    947\u001b[0m \u001b[38;5;66;03m# >> inputs = tf.keras.Input(10)\u001b[39;00m\n\u001b[1;32m    948\u001b[0m \u001b[38;5;66;03m# >> outputs = MyLayer()(inputs)  # Functional construction mode.\u001b[39;00m\n\u001b[1;32m    949\u001b[0m \u001b[38;5;66;03m# >> model = tf.keras.Model(inputs, outputs)\u001b[39;00m\n\u001b[1;32m    950\u001b[0m \u001b[38;5;28;01mif\u001b[39;00m _in_functional_construction_mode(\u001b[38;5;28mself\u001b[39m, inputs, args, kwargs, input_list):\n\u001b[0;32m--> 951\u001b[0m   \u001b[38;5;28;01mreturn\u001b[39;00m \u001b[38;5;28;43mself\u001b[39;49m\u001b[38;5;241;43m.\u001b[39;49m\u001b[43m_functional_construction_call\u001b[49m\u001b[43m(\u001b[49m\u001b[43minputs\u001b[49m\u001b[43m,\u001b[49m\u001b[43m \u001b[49m\u001b[43margs\u001b[49m\u001b[43m,\u001b[49m\u001b[43m \u001b[49m\u001b[43mkwargs\u001b[49m\u001b[43m,\u001b[49m\n\u001b[1;32m    952\u001b[0m \u001b[43m                                            \u001b[49m\u001b[43minput_list\u001b[49m\u001b[43m)\u001b[49m\n\u001b[1;32m    954\u001b[0m \u001b[38;5;66;03m# Maintains info about the `Layer.call` stack.\u001b[39;00m\n\u001b[1;32m    955\u001b[0m call_context \u001b[38;5;241m=\u001b[39m base_layer_utils\u001b[38;5;241m.\u001b[39mcall_context()\n",
      "File \u001b[0;32m~/.conda/envs/tf/lib/python3.9/site-packages/tensorflow/python/keras/engine/base_layer.py:1090\u001b[0m, in \u001b[0;36mLayer._functional_construction_call\u001b[0;34m(self, inputs, args, kwargs, input_list)\u001b[0m\n\u001b[1;32m   1086\u001b[0m \u001b[38;5;28;01mif\u001b[39;00m keras_tensor\u001b[38;5;241m.\u001b[39mkeras_tensors_enabled():\n\u001b[1;32m   1087\u001b[0m   \u001b[38;5;28;01mwith\u001b[39;00m call_context\u001b[38;5;241m.\u001b[39menter(\n\u001b[1;32m   1088\u001b[0m       layer\u001b[38;5;241m=\u001b[39m\u001b[38;5;28mself\u001b[39m, inputs\u001b[38;5;241m=\u001b[39minputs, build_graph\u001b[38;5;241m=\u001b[39m\u001b[38;5;28;01mTrue\u001b[39;00m, training\u001b[38;5;241m=\u001b[39mtraining_value):\n\u001b[1;32m   1089\u001b[0m     \u001b[38;5;66;03m# Check input assumptions set after layer building, e.g. input shape.\u001b[39;00m\n\u001b[0;32m-> 1090\u001b[0m     outputs \u001b[38;5;241m=\u001b[39m \u001b[38;5;28;43mself\u001b[39;49m\u001b[38;5;241;43m.\u001b[39;49m\u001b[43m_keras_tensor_symbolic_call\u001b[49m\u001b[43m(\u001b[49m\n\u001b[1;32m   1091\u001b[0m \u001b[43m        \u001b[49m\u001b[43minputs\u001b[49m\u001b[43m,\u001b[49m\u001b[43m \u001b[49m\u001b[43minput_masks\u001b[49m\u001b[43m,\u001b[49m\u001b[43m \u001b[49m\u001b[43margs\u001b[49m\u001b[43m,\u001b[49m\u001b[43m \u001b[49m\u001b[43mkwargs\u001b[49m\u001b[43m)\u001b[49m\n\u001b[1;32m   1093\u001b[0m     \u001b[38;5;28;01mif\u001b[39;00m outputs \u001b[38;5;129;01mis\u001b[39;00m \u001b[38;5;28;01mNone\u001b[39;00m:\n\u001b[1;32m   1094\u001b[0m       \u001b[38;5;28;01mraise\u001b[39;00m \u001b[38;5;167;01mValueError\u001b[39;00m(\u001b[38;5;124m'\u001b[39m\u001b[38;5;124mA layer\u001b[39m\u001b[38;5;130;01m\\'\u001b[39;00m\u001b[38;5;124ms `call` method should return a \u001b[39m\u001b[38;5;124m'\u001b[39m\n\u001b[1;32m   1095\u001b[0m                        \u001b[38;5;124m'\u001b[39m\u001b[38;5;124mTensor or a list of Tensors, not None \u001b[39m\u001b[38;5;124m'\u001b[39m\n\u001b[1;32m   1096\u001b[0m                        \u001b[38;5;124m'\u001b[39m\u001b[38;5;124m(layer: \u001b[39m\u001b[38;5;124m'\u001b[39m \u001b[38;5;241m+\u001b[39m \u001b[38;5;28mself\u001b[39m\u001b[38;5;241m.\u001b[39mname \u001b[38;5;241m+\u001b[39m \u001b[38;5;124m'\u001b[39m\u001b[38;5;124m).\u001b[39m\u001b[38;5;124m'\u001b[39m)\n",
      "File \u001b[0;32m~/.conda/envs/tf/lib/python3.9/site-packages/tensorflow/python/keras/engine/base_layer.py:822\u001b[0m, in \u001b[0;36mLayer._keras_tensor_symbolic_call\u001b[0;34m(self, inputs, input_masks, args, kwargs)\u001b[0m\n\u001b[1;32m    820\u001b[0m   \u001b[38;5;28;01mreturn\u001b[39;00m nest\u001b[38;5;241m.\u001b[39mmap_structure(keras_tensor\u001b[38;5;241m.\u001b[39mKerasTensor, output_signature)\n\u001b[1;32m    821\u001b[0m \u001b[38;5;28;01melse\u001b[39;00m:\n\u001b[0;32m--> 822\u001b[0m   \u001b[38;5;28;01mreturn\u001b[39;00m \u001b[38;5;28;43mself\u001b[39;49m\u001b[38;5;241;43m.\u001b[39;49m\u001b[43m_infer_output_signature\u001b[49m\u001b[43m(\u001b[49m\u001b[43minputs\u001b[49m\u001b[43m,\u001b[49m\u001b[43m \u001b[49m\u001b[43margs\u001b[49m\u001b[43m,\u001b[49m\u001b[43m \u001b[49m\u001b[43mkwargs\u001b[49m\u001b[43m,\u001b[49m\u001b[43m \u001b[49m\u001b[43minput_masks\u001b[49m\u001b[43m)\u001b[49m\n",
      "File \u001b[0;32m~/.conda/envs/tf/lib/python3.9/site-packages/tensorflow/python/keras/engine/base_layer.py:862\u001b[0m, in \u001b[0;36mLayer._infer_output_signature\u001b[0;34m(self, inputs, args, kwargs, input_masks)\u001b[0m\n\u001b[1;32m    856\u001b[0m \u001b[38;5;28;01mwith\u001b[39;00m backend\u001b[38;5;241m.\u001b[39mname_scope(\u001b[38;5;28mself\u001b[39m\u001b[38;5;241m.\u001b[39m_name_scope()):\n\u001b[1;32m    857\u001b[0m   \u001b[38;5;28;01mwith\u001b[39;00m autocast_variable\u001b[38;5;241m.\u001b[39menable_auto_cast_variables(\n\u001b[1;32m    858\u001b[0m       \u001b[38;5;28mself\u001b[39m\u001b[38;5;241m.\u001b[39m_compute_dtype_object):\n\u001b[1;32m    859\u001b[0m     \u001b[38;5;66;03m# Build layer if applicable (if the `build` method has been\u001b[39;00m\n\u001b[1;32m    860\u001b[0m     \u001b[38;5;66;03m# overridden).\u001b[39;00m\n\u001b[1;32m    861\u001b[0m     \u001b[38;5;66;03m# TODO(kaftan): do we maybe_build here, or have we already done it?\u001b[39;00m\n\u001b[0;32m--> 862\u001b[0m     \u001b[38;5;28;43mself\u001b[39;49m\u001b[38;5;241;43m.\u001b[39;49m\u001b[43m_maybe_build\u001b[49m\u001b[43m(\u001b[49m\u001b[43minputs\u001b[49m\u001b[43m)\u001b[49m\n\u001b[1;32m    863\u001b[0m     outputs \u001b[38;5;241m=\u001b[39m call_fn(inputs, \u001b[38;5;241m*\u001b[39margs, \u001b[38;5;241m*\u001b[39m\u001b[38;5;241m*\u001b[39mkwargs)\n\u001b[1;32m    865\u001b[0m   \u001b[38;5;28mself\u001b[39m\u001b[38;5;241m.\u001b[39m_handle_activity_regularization(inputs, outputs)\n",
      "File \u001b[0;32m~/.conda/envs/tf/lib/python3.9/site-packages/tensorflow/python/keras/engine/base_layer.py:2684\u001b[0m, in \u001b[0;36mLayer._maybe_build\u001b[0;34m(self, inputs)\u001b[0m\n\u001b[1;32m   2681\u001b[0m \u001b[38;5;28;01mdef\u001b[39;00m \u001b[38;5;21m_maybe_build\u001b[39m(\u001b[38;5;28mself\u001b[39m, inputs):\n\u001b[1;32m   2682\u001b[0m   \u001b[38;5;66;03m# Check input assumptions set before layer building, e.g. input rank.\u001b[39;00m\n\u001b[1;32m   2683\u001b[0m   \u001b[38;5;28;01mif\u001b[39;00m \u001b[38;5;129;01mnot\u001b[39;00m \u001b[38;5;28mself\u001b[39m\u001b[38;5;241m.\u001b[39mbuilt:\n\u001b[0;32m-> 2684\u001b[0m     \u001b[43minput_spec\u001b[49m\u001b[38;5;241;43m.\u001b[39;49m\u001b[43massert_input_compatibility\u001b[49m\u001b[43m(\u001b[49m\n\u001b[1;32m   2685\u001b[0m \u001b[43m        \u001b[49m\u001b[38;5;28;43mself\u001b[39;49m\u001b[38;5;241;43m.\u001b[39;49m\u001b[43minput_spec\u001b[49m\u001b[43m,\u001b[49m\u001b[43m \u001b[49m\u001b[43minputs\u001b[49m\u001b[43m,\u001b[49m\u001b[43m \u001b[49m\u001b[38;5;28;43mself\u001b[39;49m\u001b[38;5;241;43m.\u001b[39;49m\u001b[43mname\u001b[49m\u001b[43m)\u001b[49m\n\u001b[1;32m   2686\u001b[0m     input_list \u001b[38;5;241m=\u001b[39m nest\u001b[38;5;241m.\u001b[39mflatten(inputs)\n\u001b[1;32m   2687\u001b[0m     \u001b[38;5;28;01mif\u001b[39;00m input_list \u001b[38;5;129;01mand\u001b[39;00m \u001b[38;5;28mself\u001b[39m\u001b[38;5;241m.\u001b[39m_dtype_policy\u001b[38;5;241m.\u001b[39mcompute_dtype \u001b[38;5;129;01mis\u001b[39;00m \u001b[38;5;28;01mNone\u001b[39;00m:\n",
      "File \u001b[0;32m~/.conda/envs/tf/lib/python3.9/site-packages/tensorflow/python/keras/engine/input_spec.py:234\u001b[0m, in \u001b[0;36massert_input_compatibility\u001b[0;34m(input_spec, inputs, layer_name)\u001b[0m\n\u001b[1;32m    232\u001b[0m   ndim \u001b[38;5;241m=\u001b[39m x\u001b[38;5;241m.\u001b[39mshape\u001b[38;5;241m.\u001b[39mrank\n\u001b[1;32m    233\u001b[0m   \u001b[38;5;28;01mif\u001b[39;00m ndim \u001b[38;5;129;01mis\u001b[39;00m \u001b[38;5;129;01mnot\u001b[39;00m \u001b[38;5;28;01mNone\u001b[39;00m \u001b[38;5;129;01mand\u001b[39;00m ndim \u001b[38;5;241m<\u001b[39m spec\u001b[38;5;241m.\u001b[39mmin_ndim:\n\u001b[0;32m--> 234\u001b[0m     \u001b[38;5;28;01mraise\u001b[39;00m \u001b[38;5;167;01mValueError\u001b[39;00m(\u001b[38;5;124m'\u001b[39m\u001b[38;5;124mInput \u001b[39m\u001b[38;5;124m'\u001b[39m \u001b[38;5;241m+\u001b[39m \u001b[38;5;28mstr\u001b[39m(input_index) \u001b[38;5;241m+\u001b[39m \u001b[38;5;124m'\u001b[39m\u001b[38;5;124m of layer \u001b[39m\u001b[38;5;124m'\u001b[39m \u001b[38;5;241m+\u001b[39m\n\u001b[1;32m    235\u001b[0m                      layer_name \u001b[38;5;241m+\u001b[39m \u001b[38;5;124m'\u001b[39m\u001b[38;5;124m is incompatible with the layer: \u001b[39m\u001b[38;5;124m'\u001b[39m\n\u001b[1;32m    236\u001b[0m                      \u001b[38;5;124m'\u001b[39m\u001b[38;5;124m: expected min_ndim=\u001b[39m\u001b[38;5;124m'\u001b[39m \u001b[38;5;241m+\u001b[39m \u001b[38;5;28mstr\u001b[39m(spec\u001b[38;5;241m.\u001b[39mmin_ndim) \u001b[38;5;241m+\u001b[39m\n\u001b[1;32m    237\u001b[0m                      \u001b[38;5;124m'\u001b[39m\u001b[38;5;124m, found ndim=\u001b[39m\u001b[38;5;124m'\u001b[39m \u001b[38;5;241m+\u001b[39m \u001b[38;5;28mstr\u001b[39m(ndim) \u001b[38;5;241m+\u001b[39m\n\u001b[1;32m    238\u001b[0m                      \u001b[38;5;124m'\u001b[39m\u001b[38;5;124m. Full shape received: \u001b[39m\u001b[38;5;124m'\u001b[39m \u001b[38;5;241m+\u001b[39m\n\u001b[1;32m    239\u001b[0m                      \u001b[38;5;28mstr\u001b[39m(\u001b[38;5;28mtuple\u001b[39m(shape)))\n\u001b[1;32m    240\u001b[0m \u001b[38;5;66;03m# Check dtype.\u001b[39;00m\n\u001b[1;32m    241\u001b[0m \u001b[38;5;28;01mif\u001b[39;00m spec\u001b[38;5;241m.\u001b[39mdtype \u001b[38;5;129;01mis\u001b[39;00m \u001b[38;5;129;01mnot\u001b[39;00m \u001b[38;5;28;01mNone\u001b[39;00m:\n",
      "\u001b[0;31mValueError\u001b[0m: Input 0 of layer conv1d is incompatible with the layer: : expected min_ndim=3, found ndim=2. Full shape received: (None, 250)"
     ]
    }
   ],
   "source": [
    "model = create_1D_CNN_model(X_train.shape, dropout=DROPOUT)\n",
    "\n",
    "model.summary()\n",
    "\n",
    "history = model.fit(X_train, Y_train, epochs=EPOCHS, batch_size=BATCH_SIZE, validation_data=(X_val, Y_val), verbose=1, shuffle=False, callbacks=[early_stopping,reduce_LR_On_Plateau,])\n"
   ]
  },
  {
   "cell_type": "code",
   "execution_count": null,
   "id": "9dcc82f8",
   "metadata": {},
   "outputs": [],
   "source": [
    "plt.clf()\n",
    "plt.figure(figsize=(9,6))\n",
    "plt.plot(history.history['loss'])\n",
    "plt.plot(history.history['val_loss'])\n",
    "plt.title('Model loss for '+ MODEL_NAME)\n",
    "plt.ylabel('loss')\n",
    "plt.xlabel('epoch')\n",
    "plt.ylim([0,0.6])\n",
    "#plt.xlim([0,200])\n",
    "plt.grid()\n",
    "plt.legend(['train', 'val'], loc='upper left')\n",
    "if(not(os.path.exists(OUTPUT_DIR))):\n",
    "    os.makedirs(OUTPUT_DIR)\n",
    "plt.savefig(OUTPUT_DIR+\"/training.png\", dpi=100)  \n",
    "plt.show()"
   ]
  },
  {
   "cell_type": "code",
   "execution_count": null,
   "id": "253a1504",
   "metadata": {},
   "outputs": [],
   "source": [
    "plt.clf()\n",
    "plt.figure(figsize=(9,6))\n",
    "plt.plot(history.history['accuracy'])\n",
    "plt.plot(history.history['val_accuracy'])\n",
    "plt.title('Accuracy loss for '+ MODEL_NAME)\n",
    "plt.ylabel('loss')\n",
    "plt.xlabel('epoch')\n",
    "plt.ylim([0.4,1.0])\n",
    "#plt.xlim([0,200])\n",
    "plt.grid()\n",
    "plt.legend(['train', 'val'], loc='upper left')\n",
    "if(not(os.path.exists(OUTPUT_DIR))):\n",
    "    os.makedirs(OUTPUT_DIR)\n",
    "plt.savefig(OUTPUT_DIR+\"/accuracy.png\", dpi=100)  \n",
    "plt.show()"
   ]
  },
  {
   "cell_type": "markdown",
   "id": "9eb70edd",
   "metadata": {},
   "source": [
    "# Evaluation"
   ]
  },
  {
   "cell_type": "code",
   "execution_count": 31,
   "id": "c5c9a2b4",
   "metadata": {},
   "outputs": [
    {
     "name": "stdout",
     "output_type": "stream",
     "text": [
      "200/200 [==============================] - 36s 87ms/step\n",
      "200/200 [==============================] - 1s 3ms/step - loss: 0.6555 - accuracy: 0.6110\n"
     ]
    }
   ],
   "source": [
    "predict = model.predict(X_test,verbose=1)\n",
    "result = model.evaluate(X_test,Y_test,verbose=1)"
   ]
  },
  {
   "cell_type": "code",
   "execution_count": 32,
   "id": "f5140150",
   "metadata": {},
   "outputs": [
    {
     "name": "stdout",
     "output_type": "stream",
     "text": [
      "Training set:\n",
      "Number of possitive element: 20300\n",
      "The ratio: 0.4171032895683084\n",
      "\n",
      "Validation set:\n",
      "Number of possitive element: 5090\n",
      "The ratio: 0.418310322156476\n",
      "\n",
      "Testing set:\n",
      "Number of possitive element: 2402\n",
      "The ratio: 0.3753711517424598\n",
      "\n",
      "\n",
      "Threshold 0.0: Accuracy: 0.38 ,F1: 0.55, Matthews Correlation: 0.00\n",
      "Threshold 0.1: Accuracy: 0.38 ,F1: 0.55, Matthews Correlation: 0.03\n",
      "Threshold 0.2: Accuracy: 0.43 ,F1: 0.56, Matthews Correlation: 0.12\n",
      "Threshold 0.3: Accuracy: 0.51 ,F1: 0.55, Matthews Correlation: 0.14\n",
      "Threshold 0.4: Accuracy: 0.58 ,F1: 0.46, Matthews Correlation: 0.12\n",
      "Threshold 0.5: Accuracy: 0.61 ,F1: 0.28, Matthews Correlation: 0.08\n",
      "Threshold 0.6: Accuracy: 0.62 ,F1: 0.11, Matthews Correlation: 0.06\n",
      "Threshold 0.7: Accuracy: 0.63 ,F1: 0.03, Matthews Correlation: 0.05\n",
      "Threshold 0.8: Accuracy: 0.63 ,F1: 0.01, Matthews Correlation: 0.02\n",
      "Threshold 0.9: Accuracy: 0.62 ,F1: 0.00, Matthews Correlation: -0.01\n",
      "Threshold 1.0: Accuracy: 0.62 ,F1: 0.00, Matthews Correlation: 0.00\n",
      "\n",
      "The best performance base on Matthews Correlation:\n",
      "Threshold 0.3: Accuracy: 0.51 ,F1: 0.55, Matthews Correlation: 0.14\n"
     ]
    }
   ],
   "source": [
    "output = []\n",
    "\n",
    "#statistic\n",
    "output.append(\"Training set:\")\n",
    "output.append(\"Number of possitive element: \" +  str(np.count_nonzero(Y_train)))\n",
    "output.append(\"The ratio: \" + str(np.count_nonzero(Y_train)/Y_train.shape[0]))\n",
    "\n",
    "output.append(\"\\nValidation set:\")\n",
    "output.append(\"Number of possitive element: \" + str(np.count_nonzero(Y_val)))\n",
    "output.append(\"The ratio: \" + str(np.count_nonzero(Y_val)/Y_val.shape[0]))\n",
    "\n",
    "output.append(\"\\nTesting set:\")\n",
    "output.append(\"Number of possitive element: \" + str(np.count_nonzero(Y_test)))\n",
    "output.append(\"The ratio: \" + str(np.count_nonzero(Y_test)/Y_test.shape[0]))\n",
    "output.append(\"\\n\")\n",
    "\n",
    "#calculate performance\n",
    "best_threshold = best_accuracy = best_f1 = best_matthews = -1\n",
    "for i in np.arange(0, 1.1, 0.1):\n",
    "    Y_predict = []\n",
    "    for y in predict:\n",
    "        if y <= i:\n",
    "            Y_predict.append(0)\n",
    "        else:\n",
    "            Y_predict.append(1)\n",
    "    accuracy = accuracy_score(Y_test,Y_predict)\n",
    "    f1 = f1_score(Y_test,Y_predict)\n",
    "    matthews = matthews_corrcoef(Y_test,Y_predict)\n",
    "    #save the best result\n",
    "    if matthews > best_matthews:\n",
    "        best_threshold = i\n",
    "        best_accuracy = accuracy\n",
    "        best_f1 = f1\n",
    "        best_matthews = matthews\n",
    "    \n",
    "    output.append(\"Threshold {:.1f}: Accuracy: {:.2f} ,F1: {:.2f}, Matthews Correlation: {:.2f}\".\n",
    "                  format(i, accuracy, f1,  matthews))\n",
    "    \n",
    "#end of for loop\n",
    "output.append(\"\\nThe best performance base on Matthews Correlation:\\n\\\n",
    "Threshold {:.1f}: Accuracy: {:.2f} ,F1: {:.2f}, Matthews Correlation: {:.2f}\".\n",
    "                  format(best_threshold, best_accuracy, best_f1,  best_matthews))\n",
    "\n",
    "with open(OUTPUT_DIR+\"output.txt\", \"w\") as f:\n",
    "    for string in output:\n",
    "        print(string)\n",
    "        f.write(string)\n",
    "        f.write('\\n')"
   ]
  },
  {
   "cell_type": "code",
   "execution_count": 33,
   "id": "312f20ab",
   "metadata": {},
   "outputs": [
    {
     "data": {
      "text/plain": [
       "6399"
      ]
     },
     "execution_count": 33,
     "metadata": {},
     "output_type": "execute_result"
    }
   ],
   "source": [
    "len(Y_predict)"
   ]
  },
  {
   "cell_type": "code",
   "execution_count": 34,
   "id": "e49aad21",
   "metadata": {},
   "outputs": [
    {
     "data": {
      "text/plain": [
       "<Figure size 640x480 with 0 Axes>"
      ]
     },
     "metadata": {},
     "output_type": "display_data"
    },
    {
     "data": {
      "image/png": "[encoded data removed]",
      "text/plain": [
       "<Figure size 640x480 with 2 Axes>"
      ]
     },
     "metadata": {},
     "output_type": "display_data"
    }
   ],
   "source": [
    "Y_predict = []\n",
    "for y in predict:\n",
    "    if y <= 0.5:\n",
    "        Y_predict.append(0)\n",
    "    else:\n",
    "        Y_predict.append(1)\n",
    "plt.clf()\n",
    "\n",
    "#plt.figure(figsize=(9,6))\n",
    "ConfusionMatrixDisplay.from_predictions(Y_predict,Y_test)#.im_.set_clim(2000, 8000)\n",
    "plt.title(\"Confustion maxtrix at thresholds: \" + str(0.5))\n",
    "if(not(os.path.exists(OUTPUT_DIR))):\n",
    "    os.makedirs(OUTPUT_DIR)\n",
    "plt.savefig(OUTPUT_DIR+\"/confusion_matrix.png\")  \n",
    "plt.show()"
   ]
  },
  {
   "cell_type": "code",
   "execution_count": 35,
   "id": "7dddc35a",
   "metadata": {},
   "outputs": [
    {
     "data": {
      "text/plain": [
       "<Figure size 640x480 with 0 Axes>"
      ]
     },
     "metadata": {},
     "output_type": "display_data"
    },
    {
     "data": {
      "image/png": "[encoded data removed]",
      "text/plain": [
       "<Figure size 640x480 with 2 Axes>"
      ]
     },
     "metadata": {},
     "output_type": "display_data"
    }
   ],
   "source": [
    "Y_predict = []\n",
    "for y in predict:\n",
    "    if y <= best_threshold:\n",
    "        Y_predict.append(0)\n",
    "    else:\n",
    "        Y_predict.append(1)\n",
    "plt.clf()\n",
    "\n",
    "#plt.figure(figsize=(9,6))\n",
    "ConfusionMatrixDisplay.from_predictions(Y_predict,Y_test)#.im_.set_clim(2000, 8000)\n",
    "plt.title(\"Confustion maxtrix at thresholds: \" + str(best_threshold)[:3])\n",
    "if(not(os.path.exists(OUTPUT_DIR))):\n",
    "    os.makedirs(OUTPUT_DIR)\n",
    "plt.savefig(OUTPUT_DIR+\"/confusion_matrix_best.png\")  \n",
    "plt.show()"
   ]
  },
  {
   "cell_type": "code",
   "execution_count": 36,
   "id": "957f3412",
   "metadata": {},
   "outputs": [
    {
     "data": {
      "text/plain": [
       "<Figure size 640x480 with 0 Axes>"
      ]
     },
     "metadata": {},
     "output_type": "display_data"
    },
    {
     "data": {
      "image/png": "[encoded data removed]",
      "text/plain": [
       "<Figure size 900x600 with 1 Axes>"
      ]
     },
     "metadata": {},
     "output_type": "display_data"
    }
   ],
   "source": [
    "fpr, tpr, _ = roc_curve(Y_test,  predict)\n",
    "auc = roc_auc_score(Y_test, predict)\n",
    "\n",
    "plt.clf()\n",
    "plt.figure(figsize=(9,6))\n",
    "plt.title('ROC curve for '+ MODEL_NAME)\n",
    "plt.plot(fpr,tpr,label=\"AUC=\"+str(auc))\n",
    "plt.plot([0,1],[0,1],ls=\"--\")\n",
    "plt.ylabel('True Positive Rate')\n",
    "plt.xlabel('False Positive Rate')\n",
    "plt.grid()\n",
    "plt.legend(loc=4)\n",
    "if(not(os.path.exists(OUTPUT_DIR))):\n",
    "    os.makedirs(OUTPUT_DIR)\n",
    "plt.savefig(OUTPUT_DIR+\"/ROC.png\")  \n",
    "plt.show()"
   ]
  },
  {
   "cell_type": "code",
   "execution_count": 37,
   "id": "e0e3f951",
   "metadata": {},
   "outputs": [
    {
     "data": {
      "text/plain": [
       "<Figure size 640x480 with 0 Axes>"
      ]
     },
     "metadata": {},
     "output_type": "display_data"
    },
    {
     "data": {
      "image/png": "[encoded data removed]",
      "text/plain": [
       "<Figure size 900x600 with 1 Axes>"
      ]
     },
     "metadata": {},
     "output_type": "display_data"
    }
   ],
   "source": [
    "precision, recall, thresholds = precision_recall_curve(Y_test, predict)\n",
    "\n",
    "plt.clf()\n",
    "plt.figure(figsize=(9,6))\n",
    "plt.title('Precision vs Recall curve for '+ MODEL_NAME)\n",
    "plt.plot(recall, precision)\n",
    "plt.plot([1,0],[0,1],ls=\"--\")\n",
    "plt.xlabel('Recall')\n",
    "plt.ylabel('Precision')\n",
    "plt.grid()\n",
    "if(not(os.path.exists(OUTPUT_DIR))):\n",
    "    os.makedirs(OUTPUT_DIR)\n",
    "plt.savefig(OUTPUT_DIR+\"/Precision_vs_Recall.png\") \n",
    "plt.show()"
   ]
  },
  {
   "cell_type": "code",
   "execution_count": null,
   "id": "f4a2b49a",
   "metadata": {},
   "outputs": [],
   "source": []
  },
  {
   "cell_type": "code",
   "execution_count": null,
   "id": "e2b00d28",
   "metadata": {},
   "outputs": [],
   "source": []
  },
  {
   "cell_type": "code",
   "execution_count": null,
   "id": "fef18f39",
   "metadata": {},
   "outputs": [],
   "source": []
  },
  {
   "cell_type": "code",
   "execution_count": null,
   "id": "16162c53",
   "metadata": {},
   "outputs": [],
   "source": []
  },
  {
   "cell_type": "markdown",
   "id": "83212a31",
   "metadata": {},
   "source": [
    "# Parallelism"
   ]
  },
  {
   "cell_type": "markdown",
   "id": "36a1c576",
   "metadata": {},
   "source": [
    "**No idea how to do it**"
   ]
  },
  {
   "cell_type": "markdown",
   "id": "560060d9",
   "metadata": {},
   "source": [
    "## Generate X and Y parallelism"
   ]
  },
  {
   "cell_type": "code",
   "execution_count": 38,
   "id": "4e83eb96",
   "metadata": {},
   "outputs": [],
   "source": [
    "# def Generate_X_Y_sample_parallelism(TYPE_OF_TASK, SUBJECT_BEGIN, SUBJECT_END, NUMBER_OF_TRIAL, NUMBER_TO_GENERATE,\n",
    "#                         behaviour_data, eye_data):\n",
    "#     behavior_grouped = behaviour_data.groupby(['Task Type', 'SID', 'Trial'])\n",
    "#     eye_grouped = eye_data.groupby(['Task Type', 'SID', 'Trial'])\n",
    "\n",
    "#     X = {}\n",
    "#     Y = {}\n",
    "#     for task_type in tqdm(TYPE_OF_TASK, desc='Task_type'):\n",
    "#         #for each task_type\n",
    "#         X[task_type] = []\n",
    "#         Y[task_type] = []\n",
    "        \n",
    "#         for sid in tqdm(range(1)):#SUBJECT_BEGIN, SUBJECT_END), desc='Subject ID'):\n",
    "#             #for each subject id\n",
    "#             for i in range(1):#NUMBER_OF_TRIAL):\n",
    "#                 #for each trial\n",
    "                \n",
    "#                 #if the data is not availible, it will raise an error\n",
    "#                 try:\n",
    "#                     behavior_temp = behavior_grouped.get_group((task_type,sid,i))\n",
    "#                 except:\n",
    "#                     continue\n",
    "#                 eye_temp = eye_grouped.get_group((task_type,sid,i))\n",
    "\n",
    "#                 for j in behavior_temp['Stimulus Time']:\n",
    "#                     #for each stimulus time, j is the stimulus time\n",
    "#                     for k in range(NUMBER_TO_GENERATE):\n",
    "#                         # k is the number of sample to generate after the time j\n",
    "#                         # the first samples is a positive sample, all sample after the first will the the negative sample\n",
    "\n",
    "#                         ###########################\n",
    "#                         #This code will generate X#\n",
    "#                         ###########################\n",
    "#                         begin = j + k*TIME_INTERVAL_EACH_SAMPLE\n",
    "#                         end = begin + TIME_INTERVAL_EACH_SAMPLE\n",
    "#                         eye_temp2 = eye_temp.query('Time >= @begin and Time <= @end')[NORMALIZE_FEATURES]\n",
    "#                         if eye_temp2.shape[0] == 0:\n",
    "#                             #This is an empty case\n",
    "#                             continue\n",
    "\n",
    "#                         if eye_temp2.isna().sum().sum() != 0:\n",
    "#                             #This is an missing data case, drop the sample\n",
    "#                             continue\n",
    "\n",
    "#                         if eye_temp2.shape[0] == NUMBER_OF_TIME_SAMPLE + 1:\n",
    "#                             #this is an extra sample case, drop the last one\n",
    "# #                             print(eye_temp2.shape, ' sid:', sid, ' i:', i, ' j:', j)\n",
    "#                             eye_temp2 = eye_temp2.drop(eye_temp2.tail(1).index)\n",
    "\n",
    "#                         #this code to cut the sample into smaller channels\n",
    "#                         #if NUMBER_OF_CHANNELS = 10, shape: (250,3,1) -> (25,3,10)\n",
    "#                         eye_temp3 = []\n",
    "#                         for l in range(NUMBER_OF_CHANNELS):\n",
    "#                             #for each channel loop\n",
    "#                             begin_l = l*NUMBER_OF_INTERVAL_EACH_CHANNEL\n",
    "#                             end_l = begin_l + NUMBER_OF_INTERVAL_EACH_CHANNEL\n",
    "#                             eye_temp3.append(eye_temp2[begin_l:end_l])\n",
    "#                             #end l loop\n",
    "#                         eye_temp2 = np.array(eye_temp3).swapaxes(0,2).swapaxes(0,1)\n",
    "                        \n",
    "                        \n",
    "#                         X[task_type].append(eye_temp2)\n",
    "\n",
    "#                         ###########################\n",
    "#                         #This code will generate Y#\n",
    "#                         ###########################\n",
    "#                         if k == 0:\n",
    "#                             Y_temp = [1]\n",
    "#                         else:\n",
    "#                             Y_temp = [0]\n",
    "#                         Y[task_type].append(Y_temp)\n",
    "\n",
    "#                         #end k loop\n",
    "#                     # end j loop\n",
    "#                 #end i loop\n",
    "#             #end sid loop\n",
    "            \n",
    "#         X[task_type] = np.array(X[task_type])\n",
    "#         Y[task_type] = np.array(Y[task_type])\n",
    "#         #end task_type loop\n",
    "\n",
    "\n",
    "#     return X, Y"
   ]
  },
  {
   "cell_type": "code",
   "execution_count": 39,
   "id": "ca6be1a0",
   "metadata": {},
   "outputs": [],
   "source": [
    "# X_final, Y_final = Generate_X_Y_sample_parallelism(TASK_TYPE, 0, 53, 10, 3, behavior_df, eye_df_scaled)\n",
    "# X_test, Y_test = Generate_X_Y_sample_parallelism(TASK_TYPE, 53, 58, 10, 3, behavior_df, eye_df_scaled)\n",
    "\n",
    "# X_train = {}\n",
    "# X_val = {}\n",
    "# Y_train = {}\n",
    "# Y_val = {}\n",
    "# for task in TASK_TYPE:\n",
    "#     X_train[task] = []\n",
    "#     X_val[task] = []\n",
    "#     Y_train[task] = []\n",
    "#     Y_val[task] = []\n",
    "#     X_train[task],X_val[task],Y_train[task],Y_val[task] = train_test_split(X_final[task],Y_final[task],\n",
    "#                                                                            test_size=0.2, random_state=96, shuffle=True)\n",
    "    \n",
    "    \n",
    "# for task in TASK_TYPE:\n",
    "#     print(\"\\nTask: \", task)\n",
    "#     print(X_train[task].shape)\n",
    "#     print(X_val[task].shape)\n",
    "#     print(X_test[task].shape)\n",
    "#     print(Y_train[task].shape)\n",
    "#     print(Y_val[task].shape)\n",
    "#     print(Y_test[task].shape)"
   ]
  },
  {
   "cell_type": "markdown",
   "id": "df3036f8",
   "metadata": {},
   "source": [
    "## Create model"
   ]
  },
  {
   "cell_type": "code",
   "execution_count": 40,
   "id": "98016152",
   "metadata": {},
   "outputs": [],
   "source": [
    "# model_parallel = {}\n",
    "\n",
    "# for i, task in enumerate(TASK_TYPE):\n",
    "#     with tf.device('/gpu:'+str(i)):\n",
    "#         model_parallel[task] = create_model(X_train[task].shape, KERNEL_SIZE, STRIDES_SIZE, MAX_POOL, DROPOUT)\n",
    "\n",
    "\n"
   ]
  },
  {
   "cell_type": "code",
   "execution_count": 41,
   "id": "b3967c2a",
   "metadata": {},
   "outputs": [],
   "source": [
    "# for task in TASK_TYPE:\n",
    "#     print(task)"
   ]
  },
  {
   "cell_type": "code",
   "execution_count": 42,
   "id": "d19de02a",
   "metadata": {
    "scrolled": true
   },
   "outputs": [],
   "source": [
    "# strategy = tf.distribute.MirroredStrategy()\n",
    "# history = {}\n",
    "\n",
    "# def training_parallel(X_train, Y_train, X_val, Y_val):\n",
    "#     model = create_model(X_train.shape, KERNEL_SIZE, STRIDES_SIZE, MAX_POOL, DROPOUT)\n",
    "#     history = model.fit(X_train, Y_train, epochs=EPOCHS, batch_size=BATCH_SIZE, validation_data=(X_val, Y_val), verbose=1, shuffle=False,)\n",
    "#     return history\n",
    "\n",
    "# with strategy.scope():\n",
    "#     history['DPT'] = training_parallel(X_train['DPT'], Y_train['DPT'], X_val['DPT'], Y_val['DPT'])\n",
    "#     history['MA'] = training_parallel(X_train['MA'], Y_train['MA'], X_val['MA'], Y_val['MA'])\n",
    "#     history['PVT'] = training_parallel(X_train['PVT'], Y_train['PVT'], X_val['PVT'], Y_val['PVT'])\n",
    "#     history['VWM'] = training_parallel(X_train['VWM'], Y_train['VWM'], X_val['VWM'], Y_val['VWM'])"
   ]
  },
  {
   "cell_type": "code",
   "execution_count": 43,
   "id": "3a8b893b",
   "metadata": {},
   "outputs": [],
   "source": [
    "# print('\\a')\n",
    "# print('\\a')\n",
    "# print('\\a')\n",
    "# print('\\a')"
   ]
  },
  {
   "cell_type": "code",
   "execution_count": null,
   "id": "fb695c79",
   "metadata": {},
   "outputs": [],
   "source": []
  }
 ],
 "metadata": {
  "kernelspec": {
   "display_name": "Python 3 (ipykernel)",
   "language": "python",
   "name": "python3"
  },
  "language_info": {
   "codemirror_mode": {
    "name": "ipython",
    "version": 3
   },
   "file_extension": ".py",
   "mimetype": "text/x-python",
   "name": "python",
   "nbconvert_exporter": "python",
   "pygments_lexer": "ipython3",
   "version": "3.9.16"
  }
 },
 "nbformat": 4,
 "nbformat_minor": 5
}
